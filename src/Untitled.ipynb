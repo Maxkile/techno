{
 "cells": [
  {
   "cell_type": "code",
   "execution_count": 184,
   "metadata": {},
   "outputs": [
    {
     "name": "stdout",
     "output_type": "stream",
     "text": [
      "5 \n",
      "5 5 5 4 4\n",
      "5 4 \n",
      "3\n"
     ]
    }
   ],
   "source": [
    "n = int(input())\n",
    "deleted = 0\n",
    "\n",
    "remained = list()\n",
    "raw_inp = input().split(' ')\n",
    "raw_inp.reverse()\n",
    "for i in range(len(raw_inp)):\n",
    "    num = int(raw_inp.pop())\n",
    "    if (remained.count(num) == 0):\n",
    "        remained.append(num)\n",
    "    else:\n",
    "        deleted+=1\n",
    "remained.reverse()\n",
    "for i in range(len(remained)):\n",
    "    print(remained.pop(),end=' ')\n",
    "print()\n",
    "print(deleted)\n"
   ]
  },
  {
   "cell_type": "code",
   "execution_count": null,
   "metadata": {},
   "outputs": [
    {
     "name": "stdout",
     "output_type": "stream",
     "text": [
      "3\n"
     ]
    }
   ],
   "source": [
    "n = int(input())\n",
    "\n",
    "nums = list()\n",
    "nums = input().split(' ')\n",
    "nums.reverse()\n",
    "print(nums)\n"
   ]
  }
 ],
 "metadata": {
  "kernelspec": {
   "display_name": "Python 3",
   "language": "python",
   "name": "python3"
  },
  "language_info": {
   "codemirror_mode": {
    "name": "ipython",
    "version": 3
   },
   "file_extension": ".py",
   "mimetype": "text/x-python",
   "name": "python",
   "nbconvert_exporter": "python",
   "pygments_lexer": "ipython3",
   "version": "3.7.4"
  }
 },
 "nbformat": 4,
 "nbformat_minor": 2
}
