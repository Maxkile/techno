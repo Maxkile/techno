{
 "cells": [
  {
   "cell_type": "markdown",
   "metadata": {},
   "source": [
    "# Визуальный анализ данных с помощью Python"
   ]
  },
  {
   "cell_type": "code",
   "execution_count": 1,
   "metadata": {},
   "outputs": [],
   "source": [
    "import pandas as pd"
   ]
  },
  {
   "cell_type": "code",
   "execution_count": 2,
   "metadata": {},
   "outputs": [
    {
     "data": {
      "text/html": [
       "<div>\n",
       "<style scoped>\n",
       "    .dataframe tbody tr th:only-of-type {\n",
       "        vertical-align: middle;\n",
       "    }\n",
       "\n",
       "    .dataframe tbody tr th {\n",
       "        vertical-align: top;\n",
       "    }\n",
       "\n",
       "    .dataframe thead th {\n",
       "        text-align: right;\n",
       "    }\n",
       "</style>\n",
       "<table border=\"1\" class=\"dataframe\">\n",
       "  <thead>\n",
       "    <tr style=\"text-align: right;\">\n",
       "      <th></th>\n",
       "      <th>ID_code</th>\n",
       "      <th>target</th>\n",
       "      <th>var_108</th>\n",
       "    </tr>\n",
       "  </thead>\n",
       "  <tbody>\n",
       "    <tr>\n",
       "      <td>199995</td>\n",
       "      <td>train_199995</td>\n",
       "      <td>0</td>\n",
       "      <td>14.3787</td>\n",
       "    </tr>\n",
       "    <tr>\n",
       "      <td>199996</td>\n",
       "      <td>train_199996</td>\n",
       "      <td>0</td>\n",
       "      <td>14.2993</td>\n",
       "    </tr>\n",
       "    <tr>\n",
       "      <td>199997</td>\n",
       "      <td>train_199997</td>\n",
       "      <td>0</td>\n",
       "      <td>14.0837</td>\n",
       "    </tr>\n",
       "    <tr>\n",
       "      <td>199998</td>\n",
       "      <td>train_199998</td>\n",
       "      <td>0</td>\n",
       "      <td>14.2625</td>\n",
       "    </tr>\n",
       "    <tr>\n",
       "      <td>199999</td>\n",
       "      <td>train_199999</td>\n",
       "      <td>0</td>\n",
       "      <td>14.1260</td>\n",
       "    </tr>\n",
       "  </tbody>\n",
       "</table>\n",
       "</div>"
      ],
      "text/plain": [
       "             ID_code  target  var_108\n",
       "199995  train_199995       0  14.3787\n",
       "199996  train_199996       0  14.2993\n",
       "199997  train_199997       0  14.0837\n",
       "199998  train_199998       0  14.2625\n",
       "199999  train_199999       0  14.1260"
      ]
     },
     "execution_count": 2,
     "metadata": {},
     "output_type": "execute_result"
    }
   ],
   "source": [
    "dt = pd.read_csv('files/lesson_4/dt.csv')\n",
    "dt.tail()"
   ]
  },
  {
   "cell_type": "code",
   "execution_count": 3,
   "metadata": {},
   "outputs": [
    {
     "data": {
      "text/html": [
       "<div>\n",
       "<style scoped>\n",
       "    .dataframe tbody tr th:only-of-type {\n",
       "        vertical-align: middle;\n",
       "    }\n",
       "\n",
       "    .dataframe tbody tr th {\n",
       "        vertical-align: top;\n",
       "    }\n",
       "\n",
       "    .dataframe thead th {\n",
       "        text-align: right;\n",
       "    }\n",
       "</style>\n",
       "<table border=\"1\" class=\"dataframe\">\n",
       "  <thead>\n",
       "    <tr style=\"text-align: right;\">\n",
       "      <th></th>\n",
       "      <th>target</th>\n",
       "      <th>var_108</th>\n",
       "    </tr>\n",
       "  </thead>\n",
       "  <tbody>\n",
       "    <tr>\n",
       "      <td>count</td>\n",
       "      <td>200000.000000</td>\n",
       "      <td>200000.000000</td>\n",
       "    </tr>\n",
       "    <tr>\n",
       "      <td>mean</td>\n",
       "      <td>0.100490</td>\n",
       "      <td>14.224435</td>\n",
       "    </tr>\n",
       "    <tr>\n",
       "      <td>std</td>\n",
       "      <td>0.300653</td>\n",
       "      <td>0.171091</td>\n",
       "    </tr>\n",
       "    <tr>\n",
       "      <td>min</td>\n",
       "      <td>0.000000</td>\n",
       "      <td>13.729000</td>\n",
       "    </tr>\n",
       "    <tr>\n",
       "      <td>25%</td>\n",
       "      <td>0.000000</td>\n",
       "      <td>14.098900</td>\n",
       "    </tr>\n",
       "    <tr>\n",
       "      <td>50%</td>\n",
       "      <td>0.000000</td>\n",
       "      <td>14.226600</td>\n",
       "    </tr>\n",
       "    <tr>\n",
       "      <td>75%</td>\n",
       "      <td>0.000000</td>\n",
       "      <td>14.361800</td>\n",
       "    </tr>\n",
       "    <tr>\n",
       "      <td>max</td>\n",
       "      <td>1.000000</td>\n",
       "      <td>14.743000</td>\n",
       "    </tr>\n",
       "  </tbody>\n",
       "</table>\n",
       "</div>"
      ],
      "text/plain": [
       "              target        var_108\n",
       "count  200000.000000  200000.000000\n",
       "mean        0.100490      14.224435\n",
       "std         0.300653       0.171091\n",
       "min         0.000000      13.729000\n",
       "25%         0.000000      14.098900\n",
       "50%         0.000000      14.226600\n",
       "75%         0.000000      14.361800\n",
       "max         1.000000      14.743000"
      ]
     },
     "execution_count": 3,
     "metadata": {},
     "output_type": "execute_result"
    }
   ],
   "source": [
    "dt.describe()"
   ]
  },
  {
   "cell_type": "code",
   "execution_count": 4,
   "metadata": {},
   "outputs": [
    {
     "data": {
      "text/plain": [
       "<matplotlib.axes._subplots.AxesSubplot at 0x7f78d3c3a490>"
      ]
     },
     "execution_count": 4,
     "metadata": {},
     "output_type": "execute_result"
    }
   ],
   "source": [
    "# dt['var_108'].hist()\n",
    "dt['var_108'].hist(bins = 100)"
   ]
  },
  {
   "cell_type": "markdown",
   "metadata": {},
   "source": [
    "### API библиотеки matplotlib"
   ]
  },
  {
   "cell_type": "markdown",
   "metadata": {},
   "source": [
    "Официальная документация по matplotlib - https://matplotlib.org/index.html."
   ]
  },
  {
   "cell_type": "code",
   "execution_count": 5,
   "metadata": {},
   "outputs": [],
   "source": [
    "#Корректное отображение графиков прямо в jupyter'e\n",
    "%matplotlib inline\n",
    "#Все функции matplotlib API, в частности plot и close, находятся в модуле matplotlib.pyplot\n",
    "import matplotlib.pyplot as plt\n",
    "import numpy as np"
   ]
  },
  {
   "cell_type": "markdown",
   "metadata": {},
   "source": [
    "Графики в matplotlib существуют внутри объекта рисунка Figure. Создать новый рисунок можно методом plt.figure."
   ]
  },
  {
   "cell_type": "markdown",
   "metadata": {},
   "source": [
    "Нельзя создать график, имея пустой рисунок. Сначала нужно создать один или несколько подграфиков с помощью метода add_subplot: "
   ]
  },
  {
   "cell_type": "code",
   "execution_count": 6,
   "metadata": {},
   "outputs": [
    {
     "data": {
      "image/png": "[encoded data removed]",
      "text/plain": [
       "<Figure size 432x288 with 4 Axes>"
      ]
     },
     "metadata": {
      "needs_background": "light"
     },
     "output_type": "display_data"
    }
   ],
   "source": [
    "fig = plt.figure()\n",
    "ax1 = fig.add_subplot(221)\n",
    "ах2 = fig.add_subplot(222) \n",
    "ax3 = fig.add_subplot(223)  \n",
    "ax4 = fig.add_subplot(224)  \n",
    "\n",
    "# If you are creating many figures, make sure you explicitly call \"close\"\n",
    "# on the figures you are not using, because this will enable pylab\n",
    "# to properly clean up the memory."
   ]
  },
  {
   "cell_type": "markdown",
   "metadata": {},
   "source": [
    "-----------"
   ]
  },
  {
   "cell_type": "markdown",
   "metadata": {},
   "source": [
    "<img width = '400px' ALIGN='left' src=\"images/lesson_4/5179abf54c6fbad394dfef5ec2817828.png\">"
   ]
  },
  {
   "cell_type": "code",
   "execution_count": 7,
   "metadata": {},
   "outputs": [
    {
     "ename": "AttributeError",
     "evalue": "'AxesSubplot' object has no attribute 'pl'",
     "output_type": "error",
     "traceback": [
      "\u001b[0;31m---------------------------------------------------------------------------\u001b[0m",
      "\u001b[0;31mAttributeError\u001b[0m                            Traceback (most recent call last)",
      "\u001b[0;32m<ipython-input-7-55f23becad8d>\u001b[0m in \u001b[0;36m<module>\u001b[0;34m\u001b[0m\n\u001b[1;32m      1\u001b[0m \u001b[0mfig\u001b[0m \u001b[0;34m=\u001b[0m \u001b[0mplt\u001b[0m\u001b[0;34m.\u001b[0m\u001b[0mfigure\u001b[0m\u001b[0;34m(\u001b[0m\u001b[0;34m)\u001b[0m\u001b[0;34m\u001b[0m\u001b[0;34m\u001b[0m\u001b[0m\n\u001b[1;32m      2\u001b[0m \u001b[0max1\u001b[0m \u001b[0;34m=\u001b[0m \u001b[0mfig\u001b[0m\u001b[0;34m.\u001b[0m\u001b[0madd_subplot\u001b[0m\u001b[0;34m(\u001b[0m\u001b[0;36m221\u001b[0m\u001b[0;34m)\u001b[0m\u001b[0;34m\u001b[0m\u001b[0;34m\u001b[0m\u001b[0m\n\u001b[0;32m----> 3\u001b[0;31m \u001b[0max1\u001b[0m\u001b[0;34m.\u001b[0m\u001b[0mpl\u001b[0m\u001b[0;34m\u001b[0m\u001b[0;34m\u001b[0m\u001b[0m\n\u001b[0m\u001b[1;32m      4\u001b[0m \u001b[0mах2\u001b[0m \u001b[0;34m=\u001b[0m \u001b[0mfig\u001b[0m\u001b[0;34m.\u001b[0m\u001b[0madd_subplot\u001b[0m\u001b[0;34m(\u001b[0m\u001b[0;36m222\u001b[0m\u001b[0;34m)\u001b[0m\u001b[0;34m\u001b[0m\u001b[0;34m\u001b[0m\u001b[0m\n\u001b[1;32m      5\u001b[0m \u001b[0max3\u001b[0m \u001b[0;34m=\u001b[0m \u001b[0mfig\u001b[0m\u001b[0;34m.\u001b[0m\u001b[0madd_subplot\u001b[0m\u001b[0;34m(\u001b[0m\u001b[0;36m212\u001b[0m\u001b[0;34m)\u001b[0m\u001b[0;34m\u001b[0m\u001b[0;34m\u001b[0m\u001b[0m\n",
      "\u001b[0;31mAttributeError\u001b[0m: 'AxesSubplot' object has no attribute 'pl'"
     ]
    },
    {
     "data": {
      "image/png": "[encoded data removed]",
      "text/plain": [
       "<Figure size 432x288 with 1 Axes>"
      ]
     },
     "metadata": {
      "needs_background": "light"
     },
     "output_type": "display_data"
    }
   ],
   "source": [
    "fig = plt.figure()\n",
    "ax1 = fig.add_subplot(221)\n",
    "ах2 = fig.add_subplot(222) \n",
    "ax3 = fig.add_subplot(212)\n",
    "# ax4 = fig.add_subplot(661)\n",
    "# ax5 = fig.add_subplot(222)\n",
    "# ax4 = fig.add_subplot(663)\n",
    "# ax4 = fig.add_subplot(664)"
   ]
  },
  {
   "cell_type": "code",
   "execution_count": null,
   "metadata": {},
   "outputs": [],
   "source": [
    "fig = plt.figure()\n",
    "ax1 = fig.add_subplot(221)\n",
    "ах2 = fig.add_subplot(122) \n",
    "ax3 = fig.add_subplot(223)   "
   ]
  },
  {
   "cell_type": "code",
   "execution_count": null,
   "metadata": {},
   "outputs": [],
   "source": [
    "from numpy.random import randn"
   ]
  },
  {
   "cell_type": "code",
   "execution_count": null,
   "metadata": {},
   "outputs": [],
   "source": [
    "fig = plt.figure(figsize= (14,5))\n",
    "ax1 = fig.add_subplot(221)\n",
    "ax2 = fig.add_subplot(122) \n",
    "ax3 = fig.add_subplot(223)   \n",
    "\n",
    "plt.plot(randn(100).cumsum(), 'k--')\n",
    "# Метод fig.add_subplot возвращает объект AxesSubplot, что позволяет рисовать в любом подrрафике, вызывая методы этого объекта:\n",
    "f = ax1.hist(randn(100), bins=20, color='y', alpha=0.9)\n",
    "ax2.scatter(np.arange(30), np.arange(30) + 3 * randn(30)) "
   ]
  },
  {
   "cell_type": "code",
   "execution_count": null,
   "metadata": {},
   "outputs": [],
   "source": [
    "f"
   ]
  },
  {
   "cell_type": "code",
   "execution_count": null,
   "metadata": {},
   "outputs": [],
   "source": [
    "#Отдельно данный метод тоже будет работать, так как при необходимости он автоматически создаст рисунок и подграфик\n",
    "plt.plot(randn(100).cumsum())"
   ]
  },
  {
   "cell_type": "markdown",
   "metadata": {},
   "source": [
    " Поскольку создание рисунка с несколькими подграфиками, расположенными определенным образом, - типичная задача, существует вспомогательный метод plt.subplots, который создает новый рисунок и возвращает массив NumPy, содержащий созданные в нем объекты подграфиков: "
   ]
  },
  {
   "cell_type": "code",
   "execution_count": null,
   "metadata": {},
   "outputs": [],
   "source": [
    "fig, axes = plt.subplots(2, 3)\n",
    "fig.set_figheight(5)\n",
    "fig.set_figwidth(10)\n",
    "\n",
    "axes[0,1].scatter(np.arange(30), np.arange(30) + 3 * randn(30)) \n",
    "axes[1,1].bar(np.arange(10),  randn(10)) "
   ]
  },
  {
   "cell_type": "code",
   "execution_count": null,
   "metadata": {},
   "outputs": [],
   "source": [
    "axes"
   ]
  },
  {
   "cell_type": "code",
   "execution_count": null,
   "metadata": {},
   "outputs": [],
   "source": [
    "fig, axes = plt.subplots(2, 2, sharex=True, sharey=True)\n",
    "fig.set_figheight(5)\n",
    "fig.set_figwidth(15)\n",
    "for i in range(2):\n",
    "    for j in range(2):\n",
    "        axes[i, j].hist(randn(500), bins=50, color= 'r', alpha=0.5) \n",
    "#Достаточно популярный способ задания пустого пространства вокруг графиков         \n",
    "plt.subplots_adjust(wspace=0.0, hspace=0.0) "
   ]
  },
  {
   "cell_type": "code",
   "execution_count": null,
   "metadata": {},
   "outputs": [],
   "source": [
    "#Обратить внимание на общую ось \n",
    "fig, axes = plt.subplots(2, 2, sharex=False, sharey=False)\n",
    "fig.set_figheight(5)\n",
    "fig.set_figwidth(15)\n",
    "for i in range(2):\n",
    "    for j in range(2):\n",
    "        axes[i, j].hist(randn(500), bins=50, color= 'r', alpha=0.5) \n",
    "#Достаточно популярный способ задания пустого пространства вокруг графиков         \n",
    "plt.subplots_adjust(wspace=0.2, hspace=0.2) "
   ]
  },
  {
   "cell_type": "code",
   "execution_count": null,
   "metadata": {},
   "outputs": [],
   "source": [
    "#Сохранение рисунка\n",
    "# plt.savefig('figpath.png', dpi=400, bbox_inches= 'tight') "
   ]
  },
  {
   "cell_type": "markdown",
   "metadata": {},
   "source": [
    "### Конфигурирование matplotlib "
   ]
  },
  {
   "cell_type": "markdown",
   "metadata": {},
   "source": [
    "В начальной конфигурации matplotlib заданы цветовые схемы и умолчания, ориентированные главным образом на подготовку рисунков к публикации. По счастью, почти все аспекты поведения по умолчанию можно сконфигурировать с помощью обширного набора глобальных параметров, определяющих размер рисунка, промежутки между подграфикам:и, цвета, размеры шрифтов, стили сетки и т. д."
   ]
  },
  {
   "cell_type": "code",
   "execution_count": null,
   "metadata": {},
   "outputs": [],
   "source": [
    "#Задает глобально размер рисунка\n",
    "plt.rc('figure', figsize=(10, 10))\n",
    "font_options = {'family' : 'monospace'} \n",
    "plt.rc('font', **font_options) "
   ]
  },
  {
   "cell_type": "markdown",
   "metadata": {},
   "source": [
    "### Упражнение"
   ]
  },
  {
   "cell_type": "code",
   "execution_count": null,
   "metadata": {},
   "outputs": [],
   "source": [
    "x = ['Java', 'Python', 'PHP', 'JavaScript', 'C#', 'C++']\n",
    "popularity = [22.2, 17.6, 8.8, 8, 7.7, 6.7]"
   ]
  },
  {
   "cell_type": "markdown",
   "metadata": {},
   "source": [
    "Для выполнения упражнения необходимо изучить следующие методы объекта subplot axes:\n",
    "    - set_xlabel/set_ylabel\n",
    "    - set_title\n",
    "    - grid"
   ]
  },
  {
   "cell_type": "code",
   "execution_count": null,
   "metadata": {},
   "outputs": [],
   "source": [
    "y = plt.figure(figsize=(12,5))\n",
    "ax1 = plt.subplot(121)\n",
    "ax1.set_xlabel('Язык')\n",
    "ax1.set_ylabel('Популярность')\n",
    "ax1.set_title('Популярность языков программирования',fontsize = 14)\n",
    "ax1.grid(True)\n",
    "ax1.bar(x,popularity,color='Red')\n",
    "# ax2 = plt.subplot(222)\n",
    "# ax1.set_xlabel('Язык')\n",
    "# ax1.set_ylabel('Популярность')\n",
    "# ax1.set_title('Популярность языков программирования',fontsize = 14)\n",
    "# ax1.grid(True)\n",
    "# ax2.hist(popularity,color='Blue')"
   ]
  },
  {
   "cell_type": "markdown",
   "metadata": {},
   "source": [
    "### Визуализация с помощью Pandas"
   ]
  },
  {
   "cell_type": "markdown",
   "metadata": {},
   "source": [
    "Датасет - https://www.kaggle.com/open-powerlifting/powerlifting-database."
   ]
  },
  {
   "cell_type": "code",
   "execution_count": null,
   "metadata": {},
   "outputs": [],
   "source": [
    "import pandas as pd"
   ]
  },
  {
   "cell_type": "code",
   "execution_count": null,
   "metadata": {},
   "outputs": [],
   "source": [
    "df = pd.read_csv('files/lesson_4/openpowerlifting.csv', sep = ',')"
   ]
  },
  {
   "cell_type": "code",
   "execution_count": null,
   "metadata": {},
   "outputs": [],
   "source": [
    "df.head(2)"
   ]
  },
  {
   "cell_type": "code",
   "execution_count": null,
   "metadata": {},
   "outputs": [],
   "source": [
    "df.info()"
   ]
  },
  {
   "cell_type": "code",
   "execution_count": null,
   "metadata": {},
   "outputs": [],
   "source": [
    "cols = ['Equipment', 'Age',  'BodyweightKg', 'WeightClassKg', 'BestSquatKg','BestBenchKg','BestDeadliftKg','Place','TotalKg','Sex']\n",
    "df = df[cols]\n",
    "df.head()"
   ]
  },
  {
   "cell_type": "markdown",
   "metadata": {},
   "source": [
    "Реализация функции plot в pandas основана на библиотеке matplotlib."
   ]
  },
  {
   "cell_type": "markdown",
   "metadata": {},
   "source": [
    "#### Одномерные данные"
   ]
  },
  {
   "cell_type": "code",
   "execution_count": null,
   "metadata": {},
   "outputs": [],
   "source": [
    "fig = plt.figure(figsize= (14,5))\n",
    "df['Equipment'].value_counts().plot.bar()\n",
    "#Bar Chart (столбчатая диаграмма) - классический интсрумент для отображения информации по категориям"
   ]
  },
  {
   "cell_type": "code",
   "execution_count": null,
   "metadata": {},
   "outputs": [],
   "source": [
    "fig = plt.figure(figsize= (14,5))\n",
    "df['Equipment'].value_counts().sort_index().plot.bar()"
   ]
  },
  {
   "cell_type": "code",
   "execution_count": null,
   "metadata": {},
   "outputs": [],
   "source": [
    "#Можно посмотреть относительные наблюдения\n",
    "fig = plt.figure(figsize= (14,5))\n",
    "(df['Equipment'].value_counts() / len(df)).plot.bar()"
   ]
  },
  {
   "cell_type": "code",
   "execution_count": null,
   "metadata": {},
   "outputs": [],
   "source": [
    "df.groupby(['Equipment'])[['BodyweightKg','TotalKg']].mean()"
   ]
  },
  {
   "cell_type": "code",
   "execution_count": null,
   "metadata": {},
   "outputs": [],
   "source": [
    "df.groupby(['Equipment'])[['BodyweightKg','TotalKg']].mean().plot.bar(figsize=(14,5),stacked = False)"
   ]
  },
  {
   "cell_type": "code",
   "execution_count": null,
   "metadata": {},
   "outputs": [],
   "source": [
    "#Используется при большом количестве вариантов категориальной переменной (более 20 значений) \n",
    "fig = plt.figure(figsize= (14,5))\n",
    "chart = df['Equipment'].value_counts().plot.line()\n",
    "plt.show()"
   ]
  },
  {
   "cell_type": "code",
   "execution_count": null,
   "metadata": {},
   "outputs": [],
   "source": [
    "fig = plt.figure(figsize= (14,5))\n",
    "chart = df['Equipment'].value_counts().plot.area()\n",
    "plt.show()"
   ]
  },
  {
   "cell_type": "code",
   "execution_count": null,
   "metadata": {},
   "outputs": [],
   "source": [
    "fig = plt.figure(figsize= (14,5))\n",
    "df['Age'].plot.hist(bins=100)\n",
    "#Гистограмма - классический инстрмуент для визуализации интервальных данных\n",
    "#Визуально похожа на столбчатую диаграмму,гистограмма разбивает данные на равные интервалы и рисует частоты в каждом из столбцов"
   ]
  },
  {
   "cell_type": "code",
   "execution_count": null,
   "metadata": {},
   "outputs": [],
   "source": [
    "fig = plt.figure(figsize= (14,5))\n",
    "df['BodyweightKg'].plot.hist(bins = 2)\n",
    "# параметр bins"
   ]
  },
  {
   "cell_type": "markdown",
   "metadata": {},
   "source": [
    "#### Двумерные данные"
   ]
  },
  {
   "cell_type": "code",
   "execution_count": null,
   "metadata": {},
   "outputs": [],
   "source": [
    "df[df['Age']<50].sample(300).plot.scatter(x='BodyweightKg', y='Age',figsize=(14,5))\n",
    "#Используется для того, чтобы показать зависимость одного показателя от другого"
   ]
  },
  {
   "cell_type": "code",
   "execution_count": null,
   "metadata": {},
   "outputs": [],
   "source": [
    "df[df['Age']<50].plot.scatter(x='BodyweightKg', y='Age',figsize=(14,5))\n",
    "#Получается очень непонятно"
   ]
  },
  {
   "cell_type": "code",
   "execution_count": null,
   "metadata": {},
   "outputs": [],
   "source": [
    "df[df['Age']<50].plot.hexbin(x='BodyweightKg', y='Age',figsize=(17,6), gridsize = 25,cmap ='Blues')"
   ]
  },
  {
   "cell_type": "markdown",
   "metadata": {},
   "source": [
    "### Визуализация с помощью Seaborn"
   ]
  },
  {
   "cell_type": "markdown",
   "metadata": {},
   "source": [
    "Seaborn также реализован на matplotlib. Outofbox решение для построения визуализаций."
   ]
  },
  {
   "cell_type": "code",
   "execution_count": null,
   "metadata": {},
   "outputs": [],
   "source": [
    "import seaborn as sns"
   ]
  },
  {
   "cell_type": "code",
   "execution_count": null,
   "metadata": {},
   "outputs": [],
   "source": [
    "fig = plt.figure(figsize= (14,5))\n",
    "sns.countplot(df['Equipment'])\n",
    "#pandas bar = seaborn countplot\n",
    "#Делается намного проще, нет нужды в агрегации с помощью value_counts"
   ]
  },
  {
   "cell_type": "code",
   "execution_count": null,
   "metadata": {},
   "outputs": [],
   "source": [
    "fig = plt.figure(figsize= (20,10))\n",
    "ax1 = fig.add_subplot(221)\n",
    "sns.kdeplot(df.Age)\n",
    "#В статистике - оценка плотности ядра - один из вариантов сглаживания\n",
    "ax2 = fig.add_subplot(222) \n",
    "df['Age'].value_counts().sort_index().plot.line()"
   ]
  },
  {
   "cell_type": "code",
   "execution_count": null,
   "metadata": {},
   "outputs": [],
   "source": [
    "fig = plt.figure(figsize= (14,5))\n",
    "sns.kdeplot(df.loc[:, ['BodyweightKg','Age']].dropna().sample(5000),color='r')"
   ]
  },
  {
   "cell_type": "code",
   "execution_count": null,
   "metadata": {},
   "outputs": [],
   "source": [
    "#Аналог гистограммы\n",
    "fig = plt.figure(figsize= (14,5))\n",
    "sns.distplot(df['Age'].dropna(),kde = True)"
   ]
  },
  {
   "cell_type": "code",
   "execution_count": null,
   "metadata": {},
   "outputs": [],
   "source": [
    "#Аналог scatterplot\n",
    "sns.jointplot(x='BodyweightKg', y='Age', data=df, kind = 'hex',gridsize=20)"
   ]
  },
  {
   "cell_type": "code",
   "execution_count": null,
   "metadata": {},
   "outputs": [],
   "source": [
    "sns.boxplot(y=\"Age\", x=\"BestSquatKg\", data=df[df.Age.isin(np.arange(20,40,1))], orient=\"h\")"
   ]
  },
  {
   "cell_type": "markdown",
   "metadata": {},
   "source": [
    "Границами ящика служат первый и третий квартили (25-й и 75-й процентили соответственно), линия в середине ящика — медиана (50-й процентиль). Концы усов — края статистически значимой выборки (без выбросов), и они могут определяться несколькими способами. Наиболее распространённые значения, определяющие длину «усов»:\n",
    "\n",
    "- Минимальное и максимальное наблюдаемые значения данных по выборке (в этом случае выбросы отсутствуют);\n",
    "- Разность первого квартиля и полутора межквартильных расстояний; сумма третьего квартиля и полутора межквартильных расстояний."
   ]
  },
  {
   "cell_type": "markdown",
   "metadata": {},
   "source": [
    "<img width = '500px' src=\"images/lesson_4/d0ff538d59154901b18a98469de07fde.png\">"
   ]
  },
  {
   "cell_type": "markdown",
   "metadata": {},
   "source": [
    "Данные, выходящие за границы усов (выбросы), отображаются на графике в виде точек, маленьких кружков или звёздочек. Иногда на графике отмечают среднее арифметическое и его доверительный интервал («зарубка» на ящике). Иногда зарубками обозначают доверительный интервал для медианы.\n",
    "\n",
    "В связи с тем, что не существует единого общего согласия относительно того, как конкретно строить «ящик с усами», при виде такого графика необходимо искать информацию в сопроводительном тексте относительно того, по каким параметрам ящик с усами строился."
   ]
  },
  {
   "cell_type": "code",
   "execution_count": null,
   "metadata": {},
   "outputs": [],
   "source": [
    "fig = plt.figure(figsize= (14,5))\n",
    "sns.violinplot(y=\"TotalKg\", x=\"Equipment\",hue = 'Sex', split = True,data=df)"
   ]
  },
  {
   "cell_type": "code",
   "execution_count": null,
   "metadata": {},
   "outputs": [],
   "source": [
    "cols = ['Age', 'BodyweightKg',  'BestSquatKg',\n",
    "       'BestBenchKg', 'BestDeadliftKg','TotalKg']\n",
    "sns_plot = sns.pairplot(df[cols].dropna())"
   ]
  },
  {
   "cell_type": "code",
   "execution_count": null,
   "metadata": {},
   "outputs": [],
   "source": [
    "#Корреляция признаков\n",
    "df[cols].dropna().corr()"
   ]
  },
  {
   "cell_type": "code",
   "execution_count": null,
   "metadata": {},
   "outputs": [],
   "source": [
    "#Тепловая карта\n",
    "fig = plt.figure(figsize= (14,5))\n",
    "sns.heatmap(df[cols].dropna().corr(), cmap = 'Blues')"
   ]
  },
  {
   "cell_type": "markdown",
   "metadata": {},
   "source": [
    "### Упражнение"
   ]
  },
  {
   "cell_type": "code",
   "execution_count": null,
   "metadata": {},
   "outputs": [],
   "source": [
    "\n",
    "partizan = pd.read_excel('files/lesson_4/partizan.xlsx')\n",
    "partizan"
   ]
  },
  {
   "cell_type": "code",
   "execution_count": null,
   "metadata": {},
   "outputs": [],
   "source": [
    "par_fig = plt.figure(figsize=(20,4))\n",
    "ax1 = par_fig.add_subplot(121)\n",
    "ax1.set_title(\"Распределение заказов в метро Партизанская\")\n",
    "sns.boxplot(data=partizan['orders'],orient=\"h\")\n",
    "\n",
    "fig = plt.figure(figsize= (14,5))\n",
    "sns.distplot(partizan['orders'].dropna(),kde = True)"
   ]
  },
  {
   "cell_type": "code",
   "execution_count": null,
   "metadata": {},
   "outputs": [],
   "source": []
  },
  {
   "cell_type": "code",
   "execution_count": null,
   "metadata": {},
   "outputs": [],
   "source": []
  },
  {
   "cell_type": "code",
   "execution_count": null,
   "metadata": {},
   "outputs": [],
   "source": [
    "import folium\n",
    "from folium import plugins"
   ]
  },
  {
   "cell_type": "code",
   "execution_count": null,
   "metadata": {},
   "outputs": [],
   "source": [
    "lats = list(partizan.lat)\n",
    "longs = list(partizan.lon)\n",
    "places=[[x[0],x[1]] for x in zip(lats,longs)]\n",
    "\n",
    "m = folium.Map(places[0], tiles = 'OpenStreetMap', zoom_start=13)\n",
    "\n",
    "plugins.MarkerCluster(places).add_to(m)\n",
    "# plugins.BoatMarker(places[0]).add_to(m)\n",
    "plugins.FastMarkerCluster(places).add_to(m)\n",
    "\n",
    "m"
   ]
  },
  {
   "cell_type": "code",
   "execution_count": 8,
   "metadata": {},
   "outputs": [
    {
     "data": {
      "text/plain": [
       "[<matplotlib.lines.Line2D at 0x7f78d08bf850>]"
      ]
     },
     "execution_count": 8,
     "metadata": {},
     "output_type": "execute_result"
    },
    {
     "data": {
      "image/png": "[encoded data removed]",
      "text/plain": [
       "<Figure size 1008x720 with 2 Axes>"
      ]
     },
     "metadata": {
      "needs_background": "light"
     },
     "output_type": "display_data"
    }
   ],
   "source": [
    "import math\n",
    "import numpy as np\n",
    "import matplotlib.pyplot as plt\n",
    "a = -1\n",
    "t = 5\n",
    "\n",
    "w = np.linspace(-0.001, 10, 2000000)\n",
    "\n",
    "# af_response = lambda w: np.sqrt(np.square(a - np.cos(w * t)) + np.square(np.sin(w*t) + w*t))/(2 * np.pi * np.square(w) * t)\n",
    "ph_response = lambda w: np.arctan((-np.sin(w*t) - t*w)/(a - np.cos(w*t)))\n",
    "af_response = lambda w:abs(a/(np.pi * 2 * w) * ((1/(t*w) - np.exp(-1j * w * t)/(t*w) - 1j)))\n",
    "\n",
    "fig = plt.figure(figsize=(14,10))\n",
    "\n",
    "ax1 = fig.add_subplot(221)\n",
    "ax1.set_xlabel('w')\n",
    "ax1.set_ylabel('A(w)')\n",
    "ax1.set_title('Amplitude-Frequency Response',fontsize = 14)\n",
    "ax1.grid(True)\n",
    "\n",
    "\n",
    "plt.plot(w,af_response(w),color='red')\n",
    "\n",
    "ax2 = fig.add_subplot(222)\n",
    "ax2.set_xlabel('w')\n",
    "ax2.set_ylabel('F(w)')\n",
    "ax2.set_title('Phase-Frequency Response',fontsize = 14)\n",
    "ax2.grid(True)\n",
    "\n",
    "plt.plot(w,ph_response(w),color='blue')\n"
   ]
  },
  {
   "cell_type": "code",
   "execution_count": 9,
   "metadata": {},
   "outputs": [
    {
     "data": {
      "text/plain": [
       "[<matplotlib.lines.Line2D at 0x7f78d07fa890>]"
      ]
     },
     "execution_count": 9,
     "metadata": {},
     "output_type": "execute_result"
    },
    {
     "data": {
      "image/png": "[encoded data removed]",
      "text/plain": [
       "<Figure size 1008x720 with 1 Axes>"
      ]
     },
     "metadata": {
      "needs_background": "light"
     },
     "output_type": "display_data"
    }
   ],
   "source": [
    "import math\n",
    "import numpy as np\n",
    "import matplotlib.pyplot as plt\n",
    "\n",
    "T = 2\n",
    "t = 1\n",
    "w = 1\n",
    "fi = 1\n",
    "a = 1\n",
    "\n",
    "n = np.linspace(-0.001,150)\n",
    "\n",
    "wn = 2*n*np.pi/T\n",
    "x = 1/(w - wn)\n",
    "y = 1/(wn + w)\n",
    "# r=(a*exp{fi})/(2*T);\n",
    "\n",
    "# Re=x*[sin((w-wn)*t) + cos((w-wn)*t) - 1] +\n",
    "#   +y*[sin((w+wn)t) -  cos((w+wn)*t) + 1]\n",
    "\n",
    "# Im=x*[sin((w-wn)*t) - cos((w-wn)*t) + 1] -\n",
    "#   -y*[sin((w+wn)*t) + cos((w+wn)*t) - 1]\n",
    "# |S|=r*sqrt(Re^2 + Im^2);\n",
    "#t-\"тета\"\n",
    "\n",
    "\n",
    "# af_response = lambda w: np.sqrt(np.square(a - np.cos(w * t)) + np.square(np.sin(w*t) + w*t))/(2 * np.pi * np.square(w) * t)\n",
    "# ph_response = lambda w: np.arctan((-np.sin(w*t) - t*w)/(a - np.cos(w*t)))\n",
    "af_response = lambda w: (a*np.exp(fi)/(2*T))*np.sqrt(np.square(1/(wn - w)*(np.sin(t*(w-wn)) + np.cos(t*(w-wn)) + 1) + 1/(wn + w)*(np.sin(t*(w+wn)) - np.cos(t*(w+wn)) + 1)) + \\\n",
    "    np.square(1/(wn - w)*(np.sin(t*(w-wn)) - np.cos(t*(w-wn)) - 1) - 1/(wn + w)*(np.sin(t*(w+wn)) + np.cos(t*(w+wn)) - 1)))\n",
    "fig = plt.figure(figsize=(14,10))\n",
    "\n",
    "ax1 = fig.add_subplot(221)\n",
    "ax1.set_xlabel('w')\n",
    "ax1.set_ylabel('A(w)')\n",
    "ax1.set_title('Amplitude-Frequency Response',fontsize = 14)\n",
    "ax1.grid(True)\n",
    "\n",
    "\n",
    "plt.plot(n,af_response(n),color='red')\n",
    "\n"
   ]
  },
  {
   "cell_type": "code",
   "execution_count": null,
   "metadata": {},
   "outputs": [],
   "source": []
  },
  {
   "cell_type": "code",
   "execution_count": null,
   "metadata": {},
   "outputs": [],
   "source": []
  },
  {
   "cell_type": "code",
   "execution_count": null,
   "metadata": {},
   "outputs": [],
   "source": []
  },
  {
   "cell_type": "code",
   "execution_count": null,
   "metadata": {},
   "outputs": [],
   "source": []
  },
  {
   "cell_type": "code",
   "execution_count": null,
   "metadata": {},
   "outputs": [],
   "source": []
  },
  {
   "cell_type": "code",
   "execution_count": null,
   "metadata": {},
   "outputs": [],
   "source": []
  }
 ],
 "metadata": {
  "kernelspec": {
   "display_name": "Python 3",
   "language": "python",
   "name": "python3"
  },
  "language_info": {
   "codemirror_mode": {
    "name": "ipython",
    "version": 3
   },
   "file_extension": ".py",
   "mimetype": "text/x-python",
   "name": "python",
   "nbconvert_exporter": "python",
   "pygments_lexer": "ipython3",
   "version": "3.7.4"
  }
 },
 "nbformat": 4,
 "nbformat_minor": 2
}
