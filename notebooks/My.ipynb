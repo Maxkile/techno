{
 "cells": [
  {
   "cell_type": "code",
   "execution_count": 36,
   "metadata": {},
   "outputs": [],
   "source": [
    "import numpy as np\n",
    "\n",
    "import matplotlib.pyplot as plt\n",
    "\n",
    "%matplotlib inline"
   ]
  },
  {
   "cell_type": "markdown",
   "metadata": {},
   "source": [
    "## Структура задания и советы по его решению\n",
    "\n",
    "Все задания разбиты на 3 уровня сложности:\n",
    "* **простые** (0.25 балла) – такие пункты обычно требуют вызова одной функции с правильными аргументами;\n",
    "* **средние** (0.5 баллов) – такие пункты обычно требуют чуть большего осмысления задачи (например, переформулировать ее в терминах `numpy`) и использования нескольких техник/функций для решения; \n",
    "* **сложные** (1 балл) – такие пункты по своей структуре похожи на задачи среднего уровня сложности, но требуют еще большего расширения сознания (возможно, в ту сторону, в которую не очень и хотелось бы).\n",
    "\n",
    "Если Вы до этого не были знакомы с библиотекой `numpy`, то рекомендуется делать задания сверху вниз, пропуская сложные. Помните, что в этом задании мы преследуем две цели:\n",
    "1. научиться пользоваться большинством возможностей библиотеки;\n",
    "2. набрать баллы за домашку.\n",
    "\n",
    "Поэтому ни одна из целей не должна быть ущемлена.\n",
    "\n",
    "Перейдите к первому блоку и сделайте самые простые пункты. Когда почти все такие задачи будут решены, переходите к следующему блоку, решая в нем задачи того же уровня сложности. Как только со всеми простыми задачами будет покончено, переходите к средним задачам.\n",
    "\n",
    "### Главное правило\n",
    "\n",
    "На протяжении всего задания **запрещается** использовать циклы и рекурсию."
   ]
  },
  {
   "cell_type": "markdown",
   "metadata": {},
   "source": [
    "## Размерность массивов (1 балл)"
   ]
  },
  {
   "cell_type": "code",
   "execution_count": 37,
   "metadata": {},
   "outputs": [],
   "source": [
    "a = np.ones(6, dtype=int)"
   ]
  },
  {
   "cell_type": "markdown",
   "metadata": {},
   "source": [
    "Превратите массив $a$ в вектор-строку `a.shape == (1, 6)`. Тип получившегося объекта по-прежнему должен быть `np.array`. **(0.25 балла)**\n",
    "\n",
    "**Запрещается** использовать `reshape`."
   ]
  },
  {
   "cell_type": "code",
   "execution_count": 38,
   "metadata": {},
   "outputs": [
    {
     "data": {
      "text/plain": [
       "array([[1, 1, 1, 1, 1, 1]])"
      ]
     },
     "execution_count": 38,
     "metadata": {},
     "output_type": "execute_result"
    }
   ],
   "source": [
    "b = a[np.newaxis,:]\n",
    "b"
   ]
  },
  {
   "cell_type": "markdown",
   "metadata": {},
   "source": [
    "Превратите массив $a$ в вектор-столбец `a.shape == (6, 1)`. Тип получившегося объекта по-прежнему должен быть `np.array`. **(0.25 балла)**\n",
    "\n",
    "**Запрещается** использовать `reshape`. Воспользуйтесь способом, который вы **НЕ** использовали в предыдущем пункте. Если в документации библиотеки он описан как эквивалентный, то этот способ подойдет."
   ]
  },
  {
   "cell_type": "code",
   "execution_count": 39,
   "metadata": {},
   "outputs": [
    {
     "data": {
      "text/plain": [
       "array([[1],\n",
       "       [1],\n",
       "       [1],\n",
       "       [1],\n",
       "       [1],\n",
       "       [1]])"
      ]
     },
     "execution_count": 39,
     "metadata": {},
     "output_type": "execute_result"
    }
   ],
   "source": [
    "c = b[0:6].transpose()\n",
    "c"
   ]
  },
  {
   "cell_type": "markdown",
   "metadata": {},
   "source": [
    "Превратите массив $a$ в массив $2 \\times 3$. **(0.25 балла)**"
   ]
  },
  {
   "cell_type": "code",
   "execution_count": 40,
   "metadata": {},
   "outputs": [
    {
     "data": {
      "text/plain": [
       "array([[1, 1, 1],\n",
       "       [1, 1, 1]])"
      ]
     },
     "execution_count": 40,
     "metadata": {},
     "output_type": "execute_result"
    }
   ],
   "source": [
    "d = a.reshape(2,3)\n",
    "d"
   ]
  },
  {
   "cell_type": "code",
   "execution_count": 41,
   "metadata": {},
   "outputs": [
    {
     "data": {
      "text/plain": [
       "(50,)"
      ]
     },
     "execution_count": 41,
     "metadata": {},
     "output_type": "execute_result"
    }
   ],
   "source": [
    "np.random.seed(7892)\n",
    "\n",
    "cols = np.random.randint(low=10, high=20, size=1)\n",
    "rows = 5\n",
    "\n",
    "a = np.ones(cols * rows)\n",
    "a.shape"
   ]
  },
  {
   "cell_type": "markdown",
   "metadata": {},
   "source": [
    "Превратите массив $a$ в массив с 5 строками. **(0.25 балла)**\n",
    "\n",
    "**Запрещается** использовать информацию о размере массива $a$.\n",
    "\n",
    "**Разрешается** использовать переменную rows или число 5."
   ]
  },
  {
   "cell_type": "code",
   "execution_count": 42,
   "metadata": {},
   "outputs": [
    {
     "data": {
      "text/plain": [
       "array([[1., 1., 1., 1., 1., 1., 1., 1., 1., 1.],\n",
       "       [1., 1., 1., 1., 1., 1., 1., 1., 1., 1.],\n",
       "       [1., 1., 1., 1., 1., 1., 1., 1., 1., 1.],\n",
       "       [1., 1., 1., 1., 1., 1., 1., 1., 1., 1.],\n",
       "       [1., 1., 1., 1., 1., 1., 1., 1., 1., 1.]])"
      ]
     },
     "execution_count": 42,
     "metadata": {},
     "output_type": "execute_result"
    }
   ],
   "source": [
    "e = a.reshape(rows,-1)\n",
    "e"
   ]
  },
  {
   "cell_type": "markdown",
   "metadata": {},
   "source": [
    "## Индексация (4 балла)"
   ]
  },
  {
   "cell_type": "code",
   "execution_count": 43,
   "metadata": {},
   "outputs": [
    {
     "data": {
      "text/plain": [
       "array([[ 0,  1,  2,  3,  4,  5],\n",
       "       [ 6,  7,  8,  9, 10, 11],\n",
       "       [12, 13, 14, 15, 16, 17],\n",
       "       [18, 19, 20, 21, 22, 23],\n",
       "       [24, 25, 26, 27, 28, 29],\n",
       "       [30, 31, 32, 33, 34, 35]])"
      ]
     },
     "execution_count": 43,
     "metadata": {},
     "output_type": "execute_result"
    }
   ],
   "source": [
    "A = np.arange(36).reshape(-1, 6)\n",
    "A"
   ]
  },
  {
   "cell_type": "markdown",
   "metadata": {},
   "source": [
    "Получите следующие срезы. **(по 0.25 балла за каждый срез; итого 1.25 балла за задание)**"
   ]
  },
  {
   "cell_type": "code",
   "execution_count": 44,
   "metadata": {},
   "outputs": [
    {
     "data": {
      "text/plain": [
       "array([[14, 15, 16],\n",
       "       [20, 21, 22],\n",
       "       [26, 27, 28]])"
      ]
     },
     "execution_count": 44,
     "metadata": {},
     "output_type": "execute_result"
    }
   ],
   "source": [
    "B = A[2:5,2:5]\n",
    "B"
   ]
  },
  {
   "cell_type": "code",
   "execution_count": 45,
   "metadata": {},
   "outputs": [
    {
     "data": {
      "text/plain": [
       "array([[18, 20, 22],\n",
       "       [24, 26, 28],\n",
       "       [30, 32, 34]])"
      ]
     },
     "execution_count": 45,
     "metadata": {},
     "output_type": "execute_result"
    }
   ],
   "source": [
    "C = A[3:6,0:6:2]\n",
    "C"
   ]
  },
  {
   "cell_type": "code",
   "execution_count": 46,
   "metadata": {},
   "outputs": [
    {
     "data": {
      "text/plain": [
       "array([[34, 33, 32],\n",
       "       [28, 27, 26],\n",
       "       [22, 21, 20],\n",
       "       [16, 15, 14]])"
      ]
     },
     "execution_count": 46,
     "metadata": {},
     "output_type": "execute_result"
    }
   ],
   "source": [
    "D = A[5:1:-1,4:1:-1]\n",
    "D"
   ]
  },
  {
   "cell_type": "code",
   "execution_count": 47,
   "metadata": {},
   "outputs": [
    {
     "data": {
      "text/plain": [
       "array([[ 1,  3,  4],\n",
       "       [13, 15, 16],\n",
       "       [25, 27, 28]])"
      ]
     },
     "execution_count": 47,
     "metadata": {},
     "output_type": "execute_result"
    }
   ],
   "source": [
    "E = A[[0,2,4]][:,[1, 3, 4]]\n",
    "E"
   ]
  },
  {
   "cell_type": "code",
   "execution_count": 48,
   "metadata": {},
   "outputs": [
    {
     "data": {
      "text/plain": [
       "array([[ 7,  9, 10],\n",
       "       [19, 21, 22],\n",
       "       [25, 27, 28]])"
      ]
     },
     "execution_count": 48,
     "metadata": {},
     "output_type": "execute_result"
    }
   ],
   "source": [
    "F = A[[1,3,4]][:,[1, 3, 4]]\n",
    "F"
   ]
  },
  {
   "cell_type": "markdown",
   "metadata": {},
   "source": [
    "Создайте массив $A$ в виде [шахматной доски](https://ru.wikipedia.org/wiki/%D0%A8%D0%B0%D1%85%D0%BC%D0%B0%D1%82%D0%BD%D0%B0%D1%8F_%D0%B4%D0%BE%D1%81%D0%BA%D0%B0). **(0.25 балла)**\n",
    "\n",
    "**Подсказка:** задание решается в несколько действий, не обязательно помещать все в одно выражение."
   ]
  },
  {
   "cell_type": "code",
   "execution_count": 49,
   "metadata": {},
   "outputs": [
    {
     "ename": "TypeError",
     "evalue": "eye() missing 1 required positional argument: 'N'",
     "output_type": "error",
     "traceback": [
      "\u001b[0;31m---------------------------------------------------------------------------\u001b[0m",
      "\u001b[0;31mTypeError\u001b[0m                                 Traceback (most recent call last)",
      "\u001b[0;32m<ipython-input-49-8b9e166bbef4>\u001b[0m in \u001b[0;36m<module>\u001b[0;34m\u001b[0m\n\u001b[0;32m----> 1\u001b[0;31m \u001b[0mA\u001b[0m \u001b[0;34m=\u001b[0m \u001b[0mnp\u001b[0m\u001b[0;34m.\u001b[0m\u001b[0meye\u001b[0m\u001b[0;34m(\u001b[0m\u001b[0;34m)\u001b[0m\u001b[0;34m\u001b[0m\u001b[0;34m\u001b[0m\u001b[0m\n\u001b[0m",
      "\u001b[0;31mTypeError\u001b[0m: eye() missing 1 required positional argument: 'N'"
     ]
    }
   ],
   "source": [
    "A = np.eye()"
   ]
  },
  {
   "cell_type": "code",
   "execution_count": null,
   "metadata": {},
   "outputs": [],
   "source": [
    "C =np.zeros(shape=(8,8),dtype=int)\n",
    "C\n",
    "C[1:9:2,0:9:2] = C[1:9:2,0:9:2] + 1\n",
    "C[0:9:2,1:9:2] = C[0:9:2,1:9:2] + 1\n",
    "print(C)"
   ]
  },
  {
   "cell_type": "markdown",
   "metadata": {},
   "source": [
    "Возьмите столбцы, в которых есть хотя бы одно значение равно 7. **(0.25 балла)**"
   ]
  },
  {
   "cell_type": "code",
   "execution_count": null,
   "metadata": {},
   "outputs": [],
   "source": [
    "np.random.seed(7964)\n",
    "\n",
    "A = np.random.randint(0, 8, size=(5, 5))\n",
    "A[2, 3] = 10\n",
    "A"
   ]
  },
  {
   "cell_type": "code",
   "execution_count": null,
   "metadata": {},
   "outputs": [],
   "source": [
    "A[(a == 7).any(axis=0)]"
   ]
  },
  {
   "cell_type": "code",
   "execution_count": null,
   "metadata": {},
   "outputs": [],
   "source": [
    "B = A[:,(A == 7).any(axis = 0)]\n",
    "print(B)"
   ]
  },
  {
   "cell_type": "markdown",
   "metadata": {},
   "source": [
    "Найдите индексы значений, которые меньше 4. **(0.25 балла)**"
   ]
  },
  {
   "cell_type": "code",
   "execution_count": null,
   "metadata": {},
   "outputs": [],
   "source": [
    "np.where(A < 4)"
   ]
  },
  {
   "cell_type": "markdown",
   "metadata": {},
   "source": [
    "Найдите индексы значений, которые меньше 4 и не меньше 2. **(0.25 балла)**"
   ]
  },
  {
   "cell_type": "code",
   "execution_count": null,
   "metadata": {},
   "outputs": [],
   "source": [
    "cond = (A >= 2) & (A < 4)\n",
    "B = np.where(cond)\n",
    "B"
   ]
  },
  {
   "cell_type": "markdown",
   "metadata": {},
   "source": [
    "Получите значения по этим индексам. **(0.25 балла)**"
   ]
  },
  {
   "cell_type": "code",
   "execution_count": null,
   "metadata": {},
   "outputs": [],
   "source": [
    "C = A[B]\n",
    "C"
   ]
  },
  {
   "cell_type": "markdown",
   "metadata": {},
   "source": [
    "Найдите все индексы, где достигаются максимумы по строке в массиве $B$. **(0.5 балла)**\n",
    "\n",
    "**Подсказка:** `np.argmax` тут не подойдет. Почему?"
   ]
  },
  {
   "cell_type": "code",
   "execution_count": null,
   "metadata": {},
   "outputs": [],
   "source": [
    "B = [[0, 0, 3, 1, 3, 2],\n",
    "     [2, 3, 0, 0, 3, 0],\n",
    "     [0, 1, 2, 0, 0, 2],\n",
    "     [2, 0, 2, 0, 2, 1],\n",
    "     [1, 1, 0, 0, 1, 3]]\n",
    "B = np.asarray(B)\n",
    "B"
   ]
  },
  {
   "cell_type": "code",
   "execution_count": null,
   "metadata": {},
   "outputs": [],
   "source": [
    "C = B.max(axis=1).reshape(5,1)\n",
    "D = (B >= C)\n",
    "F = np.where(D == True)\n",
    "print(F)\n"
   ]
  },
  {
   "cell_type": "markdown",
   "metadata": {},
   "source": [
    "Рассмотрим массив $A$. Модифицруйте предыдущее решение так, чтобы получился массив $C$ следующего вида.  **(0.5 балла)**\n",
    "\n",
    "Сохраните результат в переменную $C$.\n",
    "\n",
    "**Подсказка:** `np.inf` ~ бесконечность"
   ]
  },
  {
   "cell_type": "code",
   "execution_count": null,
   "metadata": {},
   "outputs": [],
   "source": [
    "A = [[3, 1, 4, 5, 1, 2],\n",
    "     [3, 3, 2, 4, 2, 2],\n",
    "     [4, 1, 0, 1, 0, 2],\n",
    "     [1, 0, 4, 3, 4, 3],\n",
    "     [4, 2, 0, 1, 3, 4]]\n",
    "A = np.asarray(A)\n",
    "A"
   ]
  },
  {
   "cell_type": "code",
   "execution_count": null,
   "metadata": {},
   "outputs": [],
   "source": [
    "E = np.where(D == False)\n",
    "C = np.zeros(shape=(5,6),dtype=np.float)\n",
    "C[F] = A[F]\n",
    "C[E] = -np.inf\n",
    "C\n",
    "\n"
   ]
  },
  {
   "cell_type": "markdown",
   "metadata": {},
   "source": [
    "Найдите индексы, где $C$ принимает наибольшие значения. **(0.5 балла)**\n",
    "\n",
    "**Замечание:** помните о том, что `C.dtype == dtype('float')`, и числа с плавующей точкой нельзя сравнивать через `==`."
   ]
  },
  {
   "cell_type": "code",
   "execution_count": null,
   "metadata": {
    "scrolled": true
   },
   "outputs": [],
   "source": [
    "I = C.max()\n",
    "D = (C == I)\n",
    "F = np.where(D == True)\n",
    "print(F)\n"
   ]
  },
  {
   "cell_type": "markdown",
   "metadata": {},
   "source": [
    "## Операции над массивами (4.75 балла)"
   ]
  },
  {
   "cell_type": "markdown",
   "metadata": {},
   "source": [
    "Найдите максимальное значение в каждой строке массива $A$. **(0.25 балла)**"
   ]
  },
  {
   "cell_type": "code",
   "execution_count": null,
   "metadata": {},
   "outputs": [],
   "source": [
    "np.random.seed(7964)\n",
    "\n",
    "A = np.random.randint(0, 8, size=(5, 5))\n",
    "A[2, 3] = 10\n",
    "A"
   ]
  },
  {
   "cell_type": "code",
   "execution_count": null,
   "metadata": {},
   "outputs": [],
   "source": [
    "I = A.max(axis=1)\n",
    "I"
   ]
  },
  {
   "cell_type": "markdown",
   "metadata": {},
   "source": [
    "Найдите индексы максимального значения массива $A$. **(0.25 балла)**\n",
    "\n",
    "**Запрещается** считать координаты максимума руками. Найдите для этого специальную функцию."
   ]
  },
  {
   "cell_type": "code",
   "execution_count": null,
   "metadata": {},
   "outputs": [],
   "source": [
    "I = A.max()\n",
    "D = (A == I)\n",
    "F = np.where(D == True)\n",
    "F"
   ]
  },
  {
   "cell_type": "markdown",
   "metadata": {},
   "source": [
    "Добавьте в массиве $A$ слева колонку, состоящую из 1. Сохраните свой результат в переменную $A$. **(0.25 балла)**"
   ]
  },
  {
   "cell_type": "code",
   "execution_count": null,
   "metadata": {},
   "outputs": [],
   "source": [
    "A = np.concatenate((np.array([1,1,1,1,1]).reshape(5,1),A), 1)\n",
    "A\n"
   ]
  },
  {
   "cell_type": "code",
   "execution_count": null,
   "metadata": {},
   "outputs": [],
   "source": [
    "np.random.seed(7942)\n",
    "\n",
    "W = (np.random.random(size=A.shape) > 0.5).astype(int)\n",
    "W"
   ]
  },
  {
   "cell_type": "markdown",
   "metadata": {},
   "source": [
    "Умножьте массив $A$ на массив $W$ поэлементно. **(0.25 балла)**"
   ]
  },
  {
   "cell_type": "code",
   "execution_count": null,
   "metadata": {},
   "outputs": [],
   "source": [
    "B = A * W\n",
    "B"
   ]
  },
  {
   "cell_type": "markdown",
   "metadata": {},
   "source": [
    "Умножьте массив $A$ на массив $W^T$ матрично. **(0.25 балла)**"
   ]
  },
  {
   "cell_type": "code",
   "execution_count": null,
   "metadata": {},
   "outputs": [],
   "source": [
    "B = A.dot(W.T)\n",
    "B"
   ]
  },
  {
   "cell_type": "code",
   "execution_count": null,
   "metadata": {},
   "outputs": [],
   "source": [
    "np.random.seed(4589)\n",
    "\n",
    "X = np.random.randint(0, 2, size=(5, 10))\n",
    "X"
   ]
  },
  {
   "cell_type": "code",
   "execution_count": null,
   "metadata": {},
   "outputs": [],
   "source": [
    "x = np.arange(1, 11, 1)\n",
    "x"
   ]
  },
  {
   "cell_type": "markdown",
   "metadata": {},
   "source": [
    "Найдите скалярное произведение вектора $x$ с каждым из 5 векторов массива $X$. **(0.25 балла)**"
   ]
  },
  {
   "cell_type": "code",
   "execution_count": null,
   "metadata": {},
   "outputs": [],
   "source": [
    "a = X.dot(x)\n",
    "a"
   ]
  },
  {
   "cell_type": "markdown",
   "metadata": {},
   "source": [
    "Отнормируйте столбцы массива $X$ по $l1$-норме. **(0.25 балла)**"
   ]
  },
  {
   "cell_type": "code",
   "execution_count": null,
   "metadata": {},
   "outputs": [],
   "source": [
    "norm = np.linalg.norm(X,ord = 1,axis=0,keepdims=True)\n",
    "B = X/norm\n",
    "B"
   ]
  },
  {
   "cell_type": "markdown",
   "metadata": {},
   "source": [
    "Таблица умножения. Создайте массив $9 \\times 9$, элементы которого являются произведениями индексов столбца и строки. **(0.5 балла)**"
   ]
  },
  {
   "cell_type": "code",
   "execution_count": null,
   "metadata": {},
   "outputs": [],
   "source": [
    "C = np.ones(shape=(9,9),dtype=int)\n",
    "D = C * (np.asarray(np.where(C.max(axis=0) == 1)) + 1) * (np.asarray(np.where(C.max(axis=0) == 1)) + 1).transpose()\n",
    "D"
   ]
  },
  {
   "cell_type": "code",
   "execution_count": null,
   "metadata": {},
   "outputs": [],
   "source": [
    "N, M = 5, 4"
   ]
  },
  {
   "cell_type": "markdown",
   "metadata": {},
   "source": [
    "Создайте массив с повторами. Разрешается использовать константы N и M. **(0.25 балла)**\n",
    "\n",
    "**Запрещается** использовать циклы."
   ]
  },
  {
   "cell_type": "code",
   "execution_count": null,
   "metadata": {},
   "outputs": [],
   "source": [
    "np.repeat([0,1,2,3,4],M)"
   ]
  },
  {
   "cell_type": "markdown",
   "metadata": {},
   "source": [
    "Создайте массив с повторами. Разрешается использовать константы N и M. **(0.5 балла)**\n",
    "\n",
    "**Запрещается** использовать циклы."
   ]
  },
  {
   "cell_type": "code",
   "execution_count": null,
   "metadata": {},
   "outputs": [],
   "source": [
    "A = np.array([[0],[1],[2],[3],[4]])\n",
    "B = np.repeat(A, M, axis = 1).transpose()\n",
    "np.hstack(B)\n"
   ]
  },
  {
   "cell_type": "markdown",
   "metadata": {},
   "source": [
    "Даны два небольших бинарных массива $A$ размера $M \\times N$ и $B$ размера $N \\times K$. \n",
    "\n",
    "Напишите функцию `logic_mul(A, B)`, которая умножит массив $A$ на массив $B$ по правилу:\n",
    "\n",
    "$$C_{ij} = \\&_{k=1}^N (A_{ik} \\lor B_{kj})$$\n",
    "\n",
    "* $\\&$ — конъюнцкция (логическое И);\n",
    "* $\\lor$ — дизъюнкция (логическое ИЛИ).\n",
    "\n",
    "**Запрещается** использовать циклы. **(1 балл)**\n",
    "\n",
    "**Подсказка**: попробуйте поэкспериментировать с размерами массивов $A$ и $B$."
   ]
  },
  {
   "cell_type": "code",
   "execution_count": null,
   "metadata": {},
   "outputs": [],
   "source": [
    "def logic_mul(A, B):\n",
    "    x = A.dot(B)\n",
    "#     C = np.zeros(shape=(A.shape[0],B.shape[1]))\n",
    "#     return C\n",
    "    print(2)\n",
    "    pass"
   ]
  },
  {
   "cell_type": "code",
   "execution_count": 64,
   "metadata": {},
   "outputs": [
    {
     "name": "stdout",
     "output_type": "stream",
     "text": [
      "[False False]\n"
     ]
    }
   ],
   "source": [
    "A = np.asarray([[False,  False], [ True, False]], dtype=bool)\n",
    "B = np.asarray([[ True, False], [False,  True]], dtype=bool)\n",
    "C = np.ones(shape=(A.shape[0],B.shape[1]),dtype=bool)\n",
    "# logic_mul(A, B)\n",
    "# x = A[1,:] * B[:,1]\n",
    "# np.logical_and(np.logical_or(A[0,:],B[:,0])[0],np.logical_or(A[1,:],B[:,1])[1])\n",
    "# C = np.prod((A[0,:] + B[:,0]),dtype=bool)\n",
    "C = np.logical_and(A[0,:],B[:,0])\n",
    "D = np.log \n",
    "# x = A * B\n",
    "print(C)"
   ]
  },
  {
   "cell_type": "code",
   "execution_count": 75,
   "metadata": {},
   "outputs": [],
   "source": [
    "def sobelX(a):\n",
    "    b = np.zeros(shape = (a.shape[0] + a.shape[0] % 3, a.shape[1] + a.shape[1] % 3, a.shape[2]))\n",
    "    for i in range(0, a.shape[0]):\n",
    "        for j in range(0, a.shape[1]):\n",
    "            b[i + a.shape[0] % 3, j + a.shape[1] % 3] = a[i, j]\n",
    "    for l in range(3):\n",
    "        j = 0\n",
    "        while b.shape[1] - j > 3:\n",
    "            i = 0\n",
    "            while b.shape[0] - i > 3:\n",
    "                matr = ([b[i, j, l], b[i + 1, j, l], b[i + 2, j, l]],\n",
    "                [b[i, j + 1, l], b[i + 1, j + 1, l], b[i + 2, j + 1, l]],\n",
    "                [b[i, j + 2, l], b[i + 1, j + 2, l], b[i + 2, j + 2, l]])\n",
    "                matr = np.dot(matr, sobel_filter_X)\n",
    "                b[i][j][l] = matr[0][0]\n",
    "                b[i + 1, j, l] = matr[1][0]\n",
    "                b[i + 2, j, l] = matr[2][0]\n",
    "                b[i, j + 1, l] = matr[0][1]\n",
    "                b[i + 1, j + 1, l] = matr[1][1]\n",
    "                b[i + 2, j + 1, l] = matr[2][1]\n",
    "                b[i, j + 2, l] = matr[0][2]\n",
    "                b[i + 1, j + 2, l] = matr[1][2]\n",
    "                b[i + 2, j + 2, l] = matr[2][2]\n",
    "                i += 3\n",
    "            j += 3\n",
    "    return b\n",
    "\n",
    "\n",
    "\n",
    "\n",
    "    sobel_filter_X = ([-1, 2, -1], [0, 0, 0] ,[1, 2, 1])\n",
    "    sobel_filter_Y = ([-1, 0, 1], [-2, 0, 2], [-1, 0, 1])\n",
    "    im = Image.open('image.jpg')\n",
    "    im.show()\n",
    "    data = np.array(im)\n",
    "    data_f = data.astype(np.float)\n",
    "    data_f = sobelX(data_f)\n",
    "    data_f = data_f.astype(np.byte)\n",
    "    omg = Image.fromarray(data_f, 'RGB')\n",
    "    omg.show()"
   ]
  },
  {
   "cell_type": "code",
   "execution_count": null,
   "metadata": {},
   "outputs": [],
   "source": [
    "def check(A, B):\n",
    "    C = []\n",
    "    for i in range(A.shape[0]):\n",
    "        for j in range(B.shape[1]):\n",
    "            v = np.all(A[i, :] | B[:, j])\n",
    "            C.append(v)\n",
    "    C = np.asarray(C)\n",
    "    C = C.reshape(A.shape[0], B.shape[1])\n",
    "    return C\n",
    "\n",
    "def check_all(A_shape, B_shape, seed=None, attempts=10):\n",
    "    np.random.seed(seed)\n",
    "    \n",
    "    for _ in range(attempts):\n",
    "        A = np.random.random(size=A_shape) > 0.35\n",
    "        B = np.random.random(size=B_shape) > 0.65\n",
    "\n",
    "        C = logic_mul(A, B)\n",
    "        D = check(A, B)\n",
    "        assert (C == D).all()\n",
    "        \n",
    "check_all((7, 4), (4, 7), seed=9876, attempts=20)"
   ]
  },
  {
   "cell_type": "markdown",
   "metadata": {},
   "source": [
    "#### Небольшой набор задачек про изображение"
   ]
  },
  {
   "cell_type": "code",
   "execution_count": null,
   "metadata": {},
   "outputs": [],
   "source": [
    "# Если у вас не получается скачать изображение с помощью этого кода, можете скачать его в ручную.\n",
    "# Сохраните картинку рядом с этим ноутбуком и назовите image.jpg\n",
    "\n",
    "import urllib.request \n",
    "\n",
    "urllib.request.urlretrieve(\n",
    "    'https://upload.wikimedia.org/wikipedia/commons/thumb/3/33/Prokudin-Gorskii-19.jpg/555px-Prokudin-Gorskii-19.jpg',\n",
    "    'image.jpg'\n",
    ")"
   ]
  },
  {
   "cell_type": "code",
   "execution_count": 84,
   "metadata": {},
   "outputs": [
    {
     "ename": "KeyboardInterrupt",
     "evalue": "",
     "output_type": "error",
     "traceback": [
      "\u001b[0;31m---------------------------------------------------------------------------\u001b[0m",
      "\u001b[0;31mKeyboardInterrupt\u001b[0m                         Traceback (most recent call last)",
      "\u001b[0;32m<ipython-input-84-8bf1e3135c6e>\u001b[0m in \u001b[0;36m<module>\u001b[0;34m\u001b[0m\n\u001b[1;32m     71\u001b[0m     \u001b[0momg\u001b[0m\u001b[0;34m.\u001b[0m\u001b[0mshow\u001b[0m\u001b[0;34m(\u001b[0m\u001b[0;34m)\u001b[0m\u001b[0;34m\u001b[0m\u001b[0;34m\u001b[0m\u001b[0m\n\u001b[1;32m     72\u001b[0m     \u001b[0mdata_f\u001b[0m \u001b[0;34m=\u001b[0m \u001b[0mdata\u001b[0m\u001b[0;34m.\u001b[0m\u001b[0mastype\u001b[0m\u001b[0;34m(\u001b[0m\u001b[0mnp\u001b[0m\u001b[0;34m.\u001b[0m\u001b[0mfloat\u001b[0m\u001b[0;34m)\u001b[0m\u001b[0;34m\u001b[0m\u001b[0;34m\u001b[0m\u001b[0m\n\u001b[0;32m---> 73\u001b[0;31m     \u001b[0mdata_f\u001b[0m \u001b[0;34m=\u001b[0m \u001b[0mrotateRight\u001b[0m\u001b[0;34m(\u001b[0m\u001b[0mdata_f\u001b[0m\u001b[0;34m,\u001b[0m\u001b[0;36m90\u001b[0m\u001b[0;34m)\u001b[0m\u001b[0;34m\u001b[0m\u001b[0;34m\u001b[0m\u001b[0m\n\u001b[0m\u001b[1;32m     74\u001b[0m     \u001b[0mdata_f\u001b[0m \u001b[0;34m=\u001b[0m \u001b[0mdata_f\u001b[0m\u001b[0;34m.\u001b[0m\u001b[0mastype\u001b[0m\u001b[0;34m(\u001b[0m\u001b[0mnp\u001b[0m\u001b[0;34m.\u001b[0m\u001b[0mbyte\u001b[0m\u001b[0;34m)\u001b[0m\u001b[0;34m\u001b[0m\u001b[0;34m\u001b[0m\u001b[0m\n\u001b[1;32m     75\u001b[0m     \u001b[0momg\u001b[0m \u001b[0;34m=\u001b[0m \u001b[0mImage\u001b[0m\u001b[0;34m.\u001b[0m\u001b[0mfromarray\u001b[0m\u001b[0;34m(\u001b[0m\u001b[0mdata_f\u001b[0m\u001b[0;34m,\u001b[0m \u001b[0;34m'RGB'\u001b[0m\u001b[0;34m)\u001b[0m\u001b[0;34m\u001b[0m\u001b[0;34m\u001b[0m\u001b[0m\n",
      "\u001b[0;32m<ipython-input-84-8bf1e3135c6e>\u001b[0m in \u001b[0;36mrotateRight\u001b[0;34m(a, angle)\u001b[0m\n\u001b[1;32m     44\u001b[0m             \u001b[0;32mfor\u001b[0m \u001b[0mi\u001b[0m \u001b[0;32min\u001b[0m \u001b[0mrange\u001b[0m\u001b[0;34m(\u001b[0m\u001b[0;36m0\u001b[0m\u001b[0;34m,\u001b[0m \u001b[0mlen\u001b[0m\u001b[0;34m(\u001b[0m\u001b[0ma\u001b[0m\u001b[0;34m)\u001b[0m\u001b[0;34m)\u001b[0m\u001b[0;34m:\u001b[0m\u001b[0;34m\u001b[0m\u001b[0;34m\u001b[0m\u001b[0m\n\u001b[1;32m     45\u001b[0m                 \u001b[0;32mfor\u001b[0m \u001b[0mj\u001b[0m \u001b[0;32min\u001b[0m \u001b[0mrange\u001b[0m\u001b[0;34m(\u001b[0m\u001b[0;36m0\u001b[0m\u001b[0;34m,\u001b[0m \u001b[0mlen\u001b[0m\u001b[0;34m(\u001b[0m\u001b[0ma\u001b[0m\u001b[0;34m[\u001b[0m\u001b[0mi\u001b[0m\u001b[0;34m]\u001b[0m\u001b[0;34m)\u001b[0m\u001b[0;34m)\u001b[0m\u001b[0;34m:\u001b[0m\u001b[0;34m\u001b[0m\u001b[0;34m\u001b[0m\u001b[0m\n\u001b[0;32m---> 46\u001b[0;31m                     \u001b[0mb\u001b[0m\u001b[0;34m[\u001b[0m\u001b[0mj\u001b[0m\u001b[0;34m,\u001b[0m\u001b[0mlen\u001b[0m\u001b[0;34m(\u001b[0m\u001b[0ma\u001b[0m\u001b[0;34m)\u001b[0m \u001b[0;34m-\u001b[0m \u001b[0;36m1\u001b[0m \u001b[0;34m-\u001b[0m \u001b[0mi\u001b[0m\u001b[0;34m]\u001b[0m \u001b[0;34m=\u001b[0m \u001b[0ma\u001b[0m\u001b[0;34m[\u001b[0m\u001b[0mi\u001b[0m\u001b[0;34m,\u001b[0m\u001b[0mj\u001b[0m\u001b[0;34m]\u001b[0m\u001b[0;34m\u001b[0m\u001b[0;34m\u001b[0m\u001b[0m\n\u001b[0m\u001b[1;32m     47\u001b[0m     \u001b[0;32melse\u001b[0m\u001b[0;34m:\u001b[0m\u001b[0;34m\u001b[0m\u001b[0;34m\u001b[0m\u001b[0m\n\u001b[1;32m     48\u001b[0m         \u001b[0mb\u001b[0m \u001b[0;34m=\u001b[0m \u001b[0mnp\u001b[0m\u001b[0;34m.\u001b[0m\u001b[0mzeros\u001b[0m\u001b[0;34m(\u001b[0m\u001b[0ma\u001b[0m\u001b[0;34m.\u001b[0m\u001b[0mshape\u001b[0m\u001b[0;34m)\u001b[0m\u001b[0;34m\u001b[0m\u001b[0;34m\u001b[0m\u001b[0m\n",
      "\u001b[0;31mKeyboardInterrupt\u001b[0m: "
     ]
    }
   ],
   "source": [
    "    from PIL import Image\n",
    "\n",
    "    def mirrorY(a):\n",
    "        b = np.zeros(a.shape)\n",
    "        for i in range(0, len(a)):\n",
    "            n = len(a[i])\n",
    "            for j in range(0, n):\n",
    "                b[i, j] = a[i, n - j - 1]\n",
    "        return b\n",
    "\n",
    "\n",
    "    def mirrorX(a):\n",
    "        b = np.zeros(a.shape)\n",
    "        for i in range(0, len(a)):\n",
    "            n = len(a[i])\n",
    "            for j in range(0, n):\n",
    "                b[i,j] = a[len(a) - 1 - i, j]\n",
    "        return b\n",
    "\n",
    "\n",
    "    def rotateLeft(a,angle):\n",
    "        if angle % 180 != 0:\n",
    "            b = np.zeros(shape=(len(a[1]), len(a),a.shape[2]))\n",
    "            n = angle % 360 // 90\n",
    "            for k in range(n):\n",
    "                for i in range(0, len(a)):\n",
    "                    for j in range(0, len(a[i])):\n",
    "                        b[len(a[i]) - 1 - j,i] = a[i,j]\n",
    "        else:\n",
    "            b = np.zeros(a.shape)\n",
    "            n = (angle % 360) // 180\n",
    "            if (n == 1):\n",
    "                for i in range(0, len(a)):\n",
    "                    k = len(a[i])\n",
    "                    for j in range(0, k):\n",
    "                        b[j, i] = a[len(a) -1 - i, k-j-1]\n",
    "        return b\n",
    "    \n",
    "    def rotateRight(a,angle):\n",
    "        if angle % 180 != 0:\n",
    "            b = np.zeros(shape=(len(a[1]), len(a),a.shape[2]))\n",
    "            n = angle % 360 // 90\n",
    "            for k in range(n):\n",
    "                for i in range(0, len(a)):\n",
    "                    for j in range(0, len(a[i])):\n",
    "                        b[j,len(a) - 1 - i] = a[i,j]\n",
    "        else:\n",
    "            b = np.zeros(a.shape)\n",
    "            n = (angle % 360) // 180\n",
    "            if (n == 1):\n",
    "                for i in range(0, len(a)):\n",
    "                    k = len(a[i])\n",
    "                    for j in range(0, k):\n",
    "                        b[j, i] = a[len(a) -1 - i, k-j-1]\n",
    "        return b\n",
    "\n",
    " \n",
    "    im = Image.open('image.jpg')\n",
    "    im.show()\n",
    "#     data = np.array(im)\n",
    "#     data_f = data.astype(np.float)\n",
    "#     data_f = rotateRight(data_f,90)\n",
    "#     data_f = data_f.astype(np.byte)\n",
    "#     omg = Image.fromarray(data_f, 'RGB')\n",
    "#     omg.show()\n",
    "    for i in range(3):\n",
    "        data_f = data.astype(np.float)\n",
    "        data_f = rotateRight(data_f,90)\n",
    "        data_f = data_f.astype(np.byte)\n",
    "        omg = Image.fromarray(data_f, 'RGB')\n",
    "        omg.show()\n",
    "        data_f = data.astype(np.float)\n",
    "        data_f = rotateRight(data_f,90)\n",
    "        data_f = data_f.astype(np.byte)\n",
    "        omg = Image.fromarray(data_f, 'RGB')\n",
    "        omg.show()\n",
    "        data_f = data.astype(np.float)\n",
    "        data_f = rotateRight(data_f,90)\n",
    "        data_f = data_f.astype(np.byte)\n",
    "        omg = Image.fromarray(data_f, 'RGB')\n",
    "        omg.show()\n",
    "        im.show()"
   ]
  },
  {
   "cell_type": "code",
   "execution_count": null,
   "metadata": {},
   "outputs": [],
   "source": [
    "# !pip install imageio"
   ]
  },
  {
   "cell_type": "code",
   "execution_count": null,
   "metadata": {},
   "outputs": [],
   "source": [
    "import imageio\n",
    "\n",
    "def plot_image(img, zoom=1.5):\n",
    "    assert 2 <= len(img.shape) <= 3\n",
    "    \n",
    "    n_len = 6.5\n",
    "    \n",
    "    n, m = img.shape[:2]\n",
    "    frac = n / float(m)\n",
    "    n, m = zoom * frac * n_len, zoom * n_len\n",
    "    \n",
    "    fig = plt.figure(figsize=(n, m))\n",
    "    ax = fig.add_subplot(111)\n",
    "    ax.imshow(img)\n",
    "    ax.axis('off')\n",
    "    plt.show()\n",
    "\n",
    "img = imageio.imread('image.jpg')\n",
    "plot_image(img, zoom=1.5)"
   ]
  },
  {
   "cell_type": "markdown",
   "metadata": {},
   "source": [
    "Найдите среднее значению по каждому из каналов RGB. **(0.25 балла)**"
   ]
  },
  {
   "cell_type": "code",
   "execution_count": null,
   "metadata": {},
   "outputs": [],
   "source": [
    "#along matrix\n",
    "img.mean(axis = (0, 1))\n"
   ]
  },
  {
   "cell_type": "markdown",
   "metadata": {},
   "source": [
    "Посчитайте разброс (среднеквадратичное отклонение) значений по каждому из каналов. **(0.25 балла)**"
   ]
  },
  {
   "cell_type": "code",
   "execution_count": null,
   "metadata": {},
   "outputs": [],
   "source": [
    "#along matrix\n",
    "img.std(axis = (0, 1))"
   ]
  },
  {
   "cell_type": "markdown",
   "metadata": {},
   "source": [
    "Поменяйте каналы в обратном порядке. Сохраните результат в переменную img. **(0.25 балла)**"
   ]
  },
  {
   "cell_type": "code",
   "execution_count": null,
   "metadata": {},
   "outputs": [],
   "source": [
    "dims = img.ndim\n",
    "shapes = img.shape\n",
    "# print(shapes)\n",
    "img = img[:,:,::-1]"
   ]
  },
  {
   "cell_type": "code",
   "execution_count": null,
   "metadata": {},
   "outputs": [],
   "source": [
    "plot_image(img, zoom=1.5)"
   ]
  },
  {
   "cell_type": "markdown",
   "metadata": {},
   "source": [
    "## Случайный классификатор (3 балла)"
   ]
  },
  {
   "cell_type": "code",
   "execution_count": null,
   "metadata": {},
   "outputs": [],
   "source": [
    "class RandomClassifier:\n",
    "    def __init__(self, n_classes=2, seed=8888):\n",
    "        self.n_classes = n_classes\n",
    "        self.seed = seed\n",
    "        \n",
    "    def predict_proba(self, X):\n",
    "        \"\"\"\n",
    "        Method returns np.ndarray y:\n",
    "            y.shape == (X.shape[0], n_classes)\n",
    "        \n",
    "        y satisfies:\n",
    "            sum y[i, j] where j in {0..n_classes} = 1 \n",
    "        \"\"\"\n",
    "        \n",
    "        np.random.seed(self.seed)\n",
    "        \n",
    "        X = np.asarray(X)\n",
    "        y = np.random.rand(X.shape[0], self.n_classes)\n",
    "        y /= np.expand_dims(y.sum(axis=1), axis=1)\n",
    "            \n",
    "        return y"
   ]
  },
  {
   "cell_type": "code",
   "execution_count": null,
   "metadata": {},
   "outputs": [],
   "source": [
    "cls = RandomClassifier(n_classes=3, seed=3492)\n",
    "\n",
    "X = list(range(100))\n",
    "y_pred = cls.predict_proba(X)\n",
    "\n",
    "y_pred.shape"
   ]
  },
  {
   "cell_type": "markdown",
   "metadata": {},
   "source": [
    "Убедитесь, что классификатор реализован правильно, т.е. сумма вероятностей для каждого примера из выборки равна 1.0. **(0.5 балла)**\n",
    "\n",
    "Для сравнения с 1.0 используйте функцию `np.isclose` или `np.allclose`. Ваша проверка должна иметь вид:\n",
    "\n",
    "```python\n",
    "assert your_condition\n",
    "```"
   ]
  },
  {
   "cell_type": "code",
   "execution_count": null,
   "metadata": {},
   "outputs": [],
   "source": [
    "#probabilities of examples in lines\n",
    "assert np.allclose(y_pred.sum(axis = 1), 1)"
   ]
  },
  {
   "cell_type": "markdown",
   "metadata": {},
   "source": [
    "Для каждого примера из выборки найдите класс-победитель. **(0.5 балла)**"
   ]
  },
  {
   "cell_type": "code",
   "execution_count": null,
   "metadata": {},
   "outputs": [],
   "source": [
    "#search for each lines\n",
    "y_pred.argmax(axis = 1)"
   ]
  },
  {
   "cell_type": "markdown",
   "metadata": {},
   "source": [
    "Найдите количество примеров в каждом классе. **(0.5 балла)**"
   ]
  },
  {
   "cell_type": "code",
   "execution_count": null,
   "metadata": {},
   "outputs": [],
   "source": [
    "np.unique(y_pred.argmax(axis = 1), return_counts=True)"
   ]
  },
  {
   "cell_type": "markdown",
   "metadata": {},
   "source": [
    "Напишите метрику LogLoss: **(0.5 балла)**\n",
    "\n",
    "$$ LogLoss(y, p) = - y log(p) - (1 - y) log(1 - p) $$\n",
    "\n",
    "* $y$ – истинная метка класса (0 или 1);\n",
    "* $p$ – предсказанная вероятность того, что объект пренадлежит классу 1.\n",
    "\n",
    "$$ LogLoss = \\frac{1}{N} \\sum\\limits_{i=1}^N LogLoss(y_i, p_i) $$"
   ]
  },
  {
   "cell_type": "code",
   "execution_count": null,
   "metadata": {},
   "outputs": [],
   "source": [
    "#logloss for one np array\n",
    "def logloss(y_true, y_pred):\n",
    "    \"\"\"\n",
    "    Функция возвращает усредненный лог-лосс для всех точек, см. последнюю формулу.\n",
    "    \"\"\"\n",
    "    \n",
    "    return (-y_true*np.log(y_pred) - (1-y_true)*np.log(1 - y_pred)).mean()"
   ]
  },
  {
   "cell_type": "code",
   "execution_count": null,
   "metadata": {},
   "outputs": [],
   "source": [
    "from sklearn.metrics import log_loss\n",
    "\n",
    "cls = RandomClassifier(n_classes=2, seed=5498)\n",
    "\n",
    "X = list(range(100))\n",
    "y_pred = cls.predict_proba(X)[:,1]\n",
    "y_true = (np.random.random(len(X)) > 0.5).astype(int)\n",
    "\n",
    "score = logloss(y_true, y_pred)\n",
    "assert np.allclose(score, log_loss(y_true, y_pred))\n",
    "\n",
    "score"
   ]
  },
  {
   "cell_type": "code",
   "execution_count": null,
   "metadata": {},
   "outputs": [],
   "source": [
    "class RandomRegressor:\n",
    "    def __init__(self, seed=8888):\n",
    "        self.seed = seed\n",
    "        \n",
    "    def predict(self, X):\n",
    "        \"\"\"\n",
    "        Method returns np.ndarray y:\n",
    "            y.shape == (X.shape[0], ) \n",
    "        \"\"\"\n",
    "        \n",
    "        np.random.seed(self.seed)\n",
    "        \n",
    "        X = np.asarray(X)\n",
    "        y = np.random.rand(X.shape[0])\n",
    "        y = 2 * (y - 0.5)\n",
    "            \n",
    "        return y"
   ]
  },
  {
   "cell_type": "markdown",
   "metadata": {},
   "source": [
    "Напишите метрику MSE: **(0.5 балла)**\n",
    "\n",
    "$$ MSE = \\frac{1}{N} \\sum\\limits_{i=1}^{N} (y_i - \\hat y_i) ^ 2 $$\n",
    "\n",
    "* $y_i$ – истиное значение для i-го примера;\n",
    "* $\\hat y_i$ – предсказанное значение для i-го примера."
   ]
  },
  {
   "cell_type": "code",
   "execution_count": null,
   "metadata": {},
   "outputs": [],
   "source": [
    "def mse(y_true, y_pred):\n",
    "    return np.square(y_true - y_pred).mean()"
   ]
  },
  {
   "cell_type": "code",
   "execution_count": null,
   "metadata": {},
   "outputs": [],
   "source": [
    "from sklearn.metrics import mean_squared_error\n",
    "\n",
    "reg = RandomRegressor(seed=5498)\n",
    "\n",
    "X = list(range(100))\n",
    "y_pred = reg.predict(X)\n",
    "y_true = 2 * ((np.random.random(len(X)) > 0.5).astype(int) - 0.5)\n",
    "\n",
    "score = mean_squared_error(y_true, y_pred)\n",
    "assert np.allclose(score, mse(y_true, y_pred))\n",
    "\n",
    "score"
   ]
  },
  {
   "cell_type": "markdown",
   "metadata": {},
   "source": [
    "## Поиск расстояний и построение графиков (1.25 балла)"
   ]
  },
  {
   "cell_type": "code",
   "execution_count": null,
   "metadata": {},
   "outputs": [],
   "source": [
    "phi = np.linspace(0, 2 * np.pi, 500)\n",
    "print(phi)\n",
    "r = np.cos(4 * phi)\n"
   ]
  },
  {
   "cell_type": "markdown",
   "metadata": {},
   "source": [
    "Переведите полярные координаты в декартовы. Если кто-то забыл формулу, то она [здесь](https://ru.wikipedia.org/wiki/%D0%9F%D0%BE%D0%BB%D1%8F%D1%80%D0%BD%D0%B0%D1%8F_%D1%81%D0%B8%D1%81%D1%82%D0%B5%D0%BC%D0%B0_%D0%BA%D0%BE%D0%BE%D1%80%D0%B4%D0%B8%D0%BD%D0%B0%D1%82#%D0%A1%D0%B2%D1%8F%D0%B7%D1%8C_%D0%BC%D0%B5%D0%B6%D0%B4%D1%83_%D0%B4%D0%B5%D0%BA%D0%B0%D1%80%D1%82%D0%BE%D0%B2%D1%8B%D0%BC%D0%B8_%D0%B8_%D0%BF%D0%BE%D0%BB%D1%8F%D1%80%D0%BD%D1%8B%D0%BC%D0%B8_%D0%BA%D0%BE%D0%BE%D1%80%D0%B4%D0%B8%D0%BD%D0%B0%D1%82%D0%B0%D0%BC%D0%B8). **(0.25 балла)**"
   ]
  },
  {
   "cell_type": "code",
   "execution_count": null,
   "metadata": {},
   "outputs": [],
   "source": [
    "plt.figure(figsize=(6, 6))\n",
    "\n",
    "x = r * np.cos(phi)\n",
    "y = r * np.sin(phi)\n",
    "\n",
    "plt.scatter(x, y, s=1)\n",
    "plt.show()"
   ]
  },
  {
   "cell_type": "code",
   "execution_count": null,
   "metadata": {},
   "outputs": [],
   "source": [
    "X = [[55.70306, 37.53028],\n",
    "     [55.75139, 37.56528],\n",
    "     [55.74722, 37.64278],\n",
    "     [55.74611, 37.58444],\n",
    "     [55.75889, 37.58056],\n",
    "     [55.76944, 37.64944],\n",
    "     [55.77389, 37.65139]]\n",
    "\n",
    "P = [[55.797027, 37.537919],\n",
    "     [55.733842, 37.588144],\n",
    "     [55.778537, 37.588090],\n",
    "     [55.724266, 37.642806],\n",
    "     [55.730912, 37.697612]]\n",
    "M = [[1,2],\n",
    "     [1,3],\n",
    "     [3,4]]"
   ]
  },
  {
   "cell_type": "code",
   "execution_count": null,
   "metadata": {},
   "outputs": [],
   "source": [
    "# !pip install folium"
   ]
  },
  {
   "cell_type": "code",
   "execution_count": null,
   "metadata": {},
   "outputs": [],
   "source": [
    "import folium\n",
    "\n",
    "m = folium.Map(location=[55.753722, 37.620657], zoom_start=12)\n",
    "\n",
    "for point in X:\n",
    "    folium.Marker(location=point, icon=folium.Icon(color='blue')).add_to(m)\n",
    "    \n",
    "for point in P:\n",
    "    folium.Marker(location=point, icon=folium.Icon(color='red')).add_to(m)\n",
    "    \n",
    "m"
   ]
  },
  {
   "cell_type": "markdown",
   "metadata": {},
   "source": [
    "Найдите расстояние от каждой красной точки $P$ до каждой синей точки $X$. Сохраните результат в переменную $d$. **(0.25 балла)**\n",
    "\n",
    "**Замечание:** в общем случае расстояние между точками на Земле определяется расстоянием [Haversine](https://en.wikipedia.org/wiki/Haversine_formula). В данном задании предлагается найти **евклидово** расстояние между точками используя numpy или scipy."
   ]
  },
  {
   "cell_type": "code",
   "execution_count": null,
   "metadata": {},
   "outputs": [],
   "source": [
    "from scipy.spatial.distance import cdist,squareform\n",
    "d = cdist(P,X,metric='euclidean')\n",
    "d"
   ]
  },
  {
   "cell_type": "markdown",
   "metadata": {},
   "source": [
    "Для каждой точки из $P$ найдите индексы 3-х самых удалённых точек из $X$. **(0.25 балла)**"
   ]
  },
  {
   "cell_type": "code",
   "execution_count": 76,
   "metadata": {},
   "outputs": [
    {
     "data": {
      "text/plain": [
       "array([[0, 1, 2],\n",
       "       [0, 1, 2]])"
      ]
     },
     "execution_count": 76,
     "metadata": {},
     "output_type": "execute_result"
    }
   ],
   "source": [
    "r = np.argsort(d,axis=1)[:,d.shape[1]-3:7]\n",
    "r"
   ]
  },
  {
   "cell_type": "markdown",
   "metadata": {},
   "source": [
    "Для каждой точки из $P$ найдите индексы 3-х ближайших точек из $X$. **(0.5 балла)**\n",
    "\n",
    "**Запрещается** использовать функцию `np.argsort`. Решение с этой функцией работает за O(N logN). Вы должны получить эффективное решение за O(K logN), где K — число ближайших точек, а N — общее число точек. \n",
    "\n",
    "**Подсказка:** google \"get indexes of n maximum values\"\n",
    "\n",
    "**Замечание:** при таком решении точки не обязательно будут стоять в порядке увеличения расстояния."
   ]
  },
  {
   "cell_type": "code",
   "execution_count": null,
   "metadata": {},
   "outputs": [],
   "source": [
    "r = np.argpartition(d,3,axis=1)[:,0:3]\n",
    "r\n",
    "#kth==3 is \"border\" element in partition"
   ]
  }
 ],
 "metadata": {
  "kernelspec": {
   "display_name": "Python 3",
   "language": "python",
   "name": "python3"
  },
  "language_info": {
   "codemirror_mode": {
    "name": "ipython",
    "version": 3
   },
   "file_extension": ".py",
   "mimetype": "text/x-python",
   "name": "python",
   "nbconvert_exporter": "python",
   "pygments_lexer": "ipython3",
   "version": "3.7.4"
  }
 },
 "nbformat": 4,
 "nbformat_minor": 2
}
