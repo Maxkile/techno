{
 "cells": [
  {
   "cell_type": "markdown",
   "metadata": {},
   "source": [
    "**Общая информация**\n",
    "\n",
    "**Срок сдачи:** 21 октября 2019, 08:30 \n",
    "\n",
    "**Штраф за опоздание:** по 0.5 балла за 24 часа задержки. Через 10 дней домашнее задание сгорает.\n",
    "\n",
    "При отправлении ДЗ указывайте фамилию в названии файла\n",
    "Присылать ДЗ необходимо в виде ссылки на свой github репозиторий на почту ml1.sphere@mail.ru с указанием темы в следующем формате:\n",
    "\n",
    "[ML0919, Задание 1] Фамилия Имя.\n",
    "\n",
    "Используйте данный Ipython Notebook при оформлении домашнего задания."
   ]
  },
  {
   "cell_type": "markdown",
   "metadata": {},
   "source": [
    "\n",
    "**Штрафные баллы:**\n",
    "\n",
    "1. Невыполнение PEP8 -0.5 баллов\n",
    "2. Отсутствие фамилии в имени скрипта (скрипт должен называться по аналогии со stroykova_hw1.ipynb) -0.5 баллов\n",
    "3. Все строчки должны быть выполнены. Нужно, чтобы output команды можно было увидеть уже в git'е. В противном случае -0.5 баллов\n"
   ]
  },
  {
   "cell_type": "code",
   "execution_count": 1,
   "metadata": {},
   "outputs": [],
   "source": [
    "import numpy as np\n",
    "import matplotlib.pyplot as plt\n",
    "import array\n",
    "import seaborn as sns\n",
    "\n",
    "from sklearn import datasets\n",
    "from sklearn.base import ClassifierMixin\n",
    "from sklearn.datasets import fetch_mldata, fetch_20newsgroups\n",
    "\n",
    "from sklearn.neighbors.base import NeighborsBase, KNeighborsMixin, SupervisedIntegerMixin \n",
    "from sklearn.model_selection import train_test_split\n",
    "from sklearn.model_selection import GridSearchCV\n",
    "from sklearn.model_selection import KFold\n",
    "from sklearn.neighbors import KNeighborsClassifier\n",
    "\n",
    "from scipy import spatial\n",
    "from scipy import stats\n",
    "from scipy import sparse\n",
    "from collections import Counter\n",
    "from collections import OrderedDict\n",
    "# %load_ext pycodestyle_magic\n"
   ]
  },
  {
   "cell_type": "markdown",
   "metadata": {},
   "source": [
    "##### Задание 1 (1 балл)\n",
    "Реализовать KNN в классе MyKNeighborsClassifier (обязательное условие: точность не ниже sklearn реализации)\n",
    "Разберитесь самостоятельно, какая мера расстояния используется в KNeighborsClassifier дефолтно и реализуйте свой алгоритм именно с этой мерой. Самостоятельно разберитесь, как считается score из KNeighborsClassifier и реализуйте аналог в своём классе. Score не должен уступать значению KNN из sklearn"
   ]
  },
  {
   "cell_type": "code",
   "execution_count": 2,
   "metadata": {},
   "outputs": [],
   "source": [
    "# %%pycodestyle\n",
    "#using Minkowski measure\n",
    "class MyKNeighborsClassifier(NeighborsBase, KNeighborsMixin, SupervisedIntegerMixin, ClassifierMixin):\n",
    "\n",
    "    def __init__(self, n_neighbors = 2, algorithm = 'brute'):\n",
    "        self.neighbors = n_neighbors\n",
    "        self.algorithm = algorithm\n",
    "        \n",
    "    def setalgorithm(self,algorithm):\n",
    "        self.algorithm = algorithm\n",
    "        \n",
    "    def minkowskidist(self,X,Y):\n",
    "        return spatial.distance.cdist(X,Y,metric = 'minkowski',p = 2)\n",
    "    \n",
    "    def cosinedist(self,X,Y):\n",
    "        return spatial.distance.cdist(X,Y,metric = 'cosine')\n",
    "    \n",
    "    #fitting is only storing data, because no model is needed to be trained \n",
    "    def fit(self, X, y):\n",
    "        if (X.shape[0] != y.shape[0]):\n",
    "            print(\"Incompatible shapes!\")\n",
    "        elif self.algorithm == 'kd_tree':#if use \"kd_tree\" struct then create index for our data\n",
    "            self.userKDTree = spatial.KDTree(X)            \n",
    "        self.train_data = np.array(X,dtype=float)\n",
    "        self.train_targets = np.array(y,dtype=int)\n",
    "        self.features_num = self.train_data.shape[1]#features size\n",
    "        self.data_volume = self.train_data.shape[0]#sample size\n",
    "        self.classes = np.unique(y)#classes for classification\n",
    "        \n",
    "    #classification prediction(rewritten in numpy)\n",
    "    def predict(self, X):\n",
    "        # now we need to find the smallest dist\n",
    "        if self.algorithm == 'kd_tree':\n",
    "            kdDistsInd = self.userKDTree.query(X, k = self.neighbors, p = 2)[1]\n",
    "            return stats.mode(self.train_targets[kdDistsInd],axis = 1)[0].ravel()\n",
    "        elif self.algorithm == 'brute':\n",
    "            dists = self.minkowskidist(X, self.train_data) # lines - test,columns - train\n",
    "            dists_ind = np.argpartition(dists, self.neighbors - 1, axis = 1, kind = 'introselect')[:,:self.neighbors]   # need elements with minimal distance(neighbors-1 elements in each group)\n",
    "            return stats.mode(self.train_targets[dists_ind], axis = 1)[0].ravel()\n",
    "        \n",
    "    #probability\n",
    "    def predict_proba(self, X):\n",
    "        test_len = len(X)\n",
    "        res = np.zeros((test_len,len(self.classes)),dtype = float)\n",
    "        dists = self.minkowskidist(X,self.train_data)\n",
    "        dists_ind = np.argsort(dists,axis = 1)[:,:self.neighbors]#indexes of k nearest\n",
    "        for line in range(self.train_targets[dists_ind].shape[0]):#k nearest classes for each test\n",
    "            for column in range(self.train_targets[dists_ind].shape[1]):\n",
    "                test_class = self.train_targets[dists_ind][line][column]\n",
    "                res[line,test_class] += 1\n",
    "        return res/self.neighbors\n",
    "    \n",
    "    #Returns the mean accuracy on the given test data and test labels(Q)(score as accuracy:L(a,x,y) = (a(x) == y)) )\n",
    "    def score(self, X, y):\n",
    "        if (X.shape[0] != y.shape[0]):\n",
    "            print('Incompatible shapes!')\n",
    "        else:\n",
    "            return np.mean(self.predict(X) == y)\n",
    "    \n",
    "    def trainscore(self):\n",
    "        return np.mean(self.predict(self.train_data) == self.train_targets)"
   ]
  },
  {
   "cell_type": "markdown",
   "metadata": {},
   "source": [
    "**IRIS**\n",
    "\n",
    "В библиотеке scikit-learn есть несколько датасетов из коробки. Один из них [Ирисы Фишера](https://ru.wikipedia.org/wiki/%D0%98%D1%80%D0%B8%D1%81%D1%8B_%D0%A4%D0%B8%D1%88%D0%B5%D1%80%D0%B0)"
   ]
  },
  {
   "cell_type": "code",
   "execution_count": 54,
   "metadata": {},
   "outputs": [],
   "source": [
    "iris = datasets.load_iris()\n"
   ]
  },
  {
   "cell_type": "code",
   "execution_count": 55,
   "metadata": {},
   "outputs": [
    {
     "name": "stdout",
     "output_type": "stream",
     "text": [
      "<class 'numpy.ndarray'>\n"
     ]
    }
   ],
   "source": [
    "X_train, X_test, y_train, y_test = train_test_split(iris.data, iris.target, test_size=0.1, stratify=iris.target)"
   ]
  },
  {
   "cell_type": "code",
   "execution_count": 5,
   "metadata": {},
   "outputs": [
    {
     "data": {
      "text/plain": [
       "<matplotlib.legend.Legend at 0x7fa0ff040fd0>"
      ]
     },
     "execution_count": 5,
     "metadata": {},
     "output_type": "execute_result"
    },
    {
     "data": {
      "image/png": "[encoded data removed]",
      "text/plain": [
       "<Figure size 1080x360 with 1 Axes>"
      ]
     },
     "metadata": {
      "needs_background": "light"
     },
     "output_type": "display_data"
    }
   ],
   "source": [
    "fig = plt.figure(figsize = (15, 5))\n",
    "ax1 = fig.add_subplot(121)\n",
    "plt.xlabel('Sepals length')\n",
    "plt.ylabel('Sepals width')\n",
    "plt.scatter(iris.data[:,0][iris.target == 0],iris.data[:,1][iris.target == 0],alpha = 0.75,color='red',label='setosa')\n",
    "plt.scatter(iris.data[:,0][iris.target == 1],iris.data[:,1][iris.target == 1],alpha = 0.75,color='blue',label='versicolor')\n",
    "plt.scatter(iris.data[:,0][iris.target == 2],iris.data[:,1][iris.target == 2],alpha = 0.75,color='green',label='virginica')\n",
    "plt.legend()"
   ]
  },
  {
   "cell_type": "code",
   "execution_count": 6,
   "metadata": {},
   "outputs": [],
   "source": [
    "clf = KNeighborsClassifier(n_neighbors = 2, algorithm = 'brute')\n",
    "my_clf = MyKNeighborsClassifier(n_neighbors = 2, algorithm = 'brute')"
   ]
  },
  {
   "cell_type": "code",
   "execution_count": 7,
   "metadata": {},
   "outputs": [],
   "source": [
    "clf.fit(X_train, y_train)\n",
    "my_clf.fit(X_train, y_train)"
   ]
  },
  {
   "cell_type": "code",
   "execution_count": 8,
   "metadata": {},
   "outputs": [],
   "source": [
    "assert abs(my_clf.score(X_test, y_test) - clf.score(X_test,y_test)) < 0.005, \"Score must be simillar\""
   ]
  },
  {
   "cell_type": "markdown",
   "metadata": {},
   "source": [
    "**Задание 2 (0.5 балла)**\n",
    "\n",
    "Давайте попробуем добиться скорости работы на fit, predict и predict_proba сравнимой со sklearn для iris.\n",
    "Для этого используем numpy"
   ]
  },
  {
   "cell_type": "code",
   "execution_count": 9,
   "metadata": {},
   "outputs": [
    {
     "name": "stdout",
     "output_type": "stream",
     "text": [
      "CPU times: user 2.15 ms, sys: 327 µs, total: 2.48 ms\n",
      "Wall time: 1.73 ms\n"
     ]
    },
    {
     "data": {
      "text/plain": [
       "KNeighborsClassifier(algorithm='brute', leaf_size=30, metric='minkowski',\n",
       "                     metric_params=None, n_jobs=None, n_neighbors=2, p=2,\n",
       "                     weights='uniform')"
      ]
     },
     "execution_count": 9,
     "metadata": {},
     "output_type": "execute_result"
    }
   ],
   "source": [
    "%time clf.fit(X_train, y_train)"
   ]
  },
  {
   "cell_type": "code",
   "execution_count": 10,
   "metadata": {},
   "outputs": [
    {
     "name": "stdout",
     "output_type": "stream",
     "text": [
      "CPU times: user 1.02 ms, sys: 127 µs, total: 1.15 ms\n",
      "Wall time: 996 µs\n"
     ]
    }
   ],
   "source": [
    "%time my_clf.fit(X_train, y_train)"
   ]
  },
  {
   "cell_type": "code",
   "execution_count": 11,
   "metadata": {},
   "outputs": [
    {
     "name": "stdout",
     "output_type": "stream",
     "text": [
      "CPU times: user 6.69 ms, sys: 413 µs, total: 7.1 ms\n",
      "Wall time: 6.13 ms\n"
     ]
    },
    {
     "data": {
      "text/plain": [
       "array([2, 1, 1, 1, 1, 0, 0, 0, 1, 1, 0, 2, 2, 1, 0])"
      ]
     },
     "execution_count": 11,
     "metadata": {},
     "output_type": "execute_result"
    }
   ],
   "source": [
    "%time clf.predict(X_test)"
   ]
  },
  {
   "cell_type": "code",
   "execution_count": 12,
   "metadata": {},
   "outputs": [
    {
     "name": "stdout",
     "output_type": "stream",
     "text": [
      "CPU times: user 2.44 ms, sys: 3.27 ms, total: 5.71 ms\n",
      "Wall time: 3.81 ms\n"
     ]
    },
    {
     "data": {
      "text/plain": [
       "array([2, 1, 1, 1, 1, 0, 0, 0, 1, 1, 0, 2, 2, 1, 0])"
      ]
     },
     "execution_count": 12,
     "metadata": {},
     "output_type": "execute_result"
    }
   ],
   "source": [
    "%time my_clf.predict(X_test)"
   ]
  },
  {
   "cell_type": "code",
   "execution_count": 13,
   "metadata": {},
   "outputs": [
    {
     "name": "stdout",
     "output_type": "stream",
     "text": [
      "CPU times: user 2.49 ms, sys: 386 µs, total: 2.88 ms\n",
      "Wall time: 1.99 ms\n"
     ]
    },
    {
     "data": {
      "text/plain": [
       "array([[0. , 0. , 1. ],\n",
       "       [0. , 1. , 0. ],\n",
       "       [0. , 1. , 0. ],\n",
       "       [0. , 0.5, 0.5],\n",
       "       [0. , 1. , 0. ],\n",
       "       [1. , 0. , 0. ],\n",
       "       [1. , 0. , 0. ],\n",
       "       [1. , 0. , 0. ],\n",
       "       [0. , 1. , 0. ],\n",
       "       [0. , 1. , 0. ],\n",
       "       [1. , 0. , 0. ],\n",
       "       [0. , 0. , 1. ],\n",
       "       [0. , 0. , 1. ],\n",
       "       [0. , 1. , 0. ],\n",
       "       [1. , 0. , 0. ]])"
      ]
     },
     "execution_count": 13,
     "metadata": {},
     "output_type": "execute_result"
    }
   ],
   "source": [
    "%time clf.predict_proba(X_test)"
   ]
  },
  {
   "cell_type": "code",
   "execution_count": 14,
   "metadata": {},
   "outputs": [
    {
     "name": "stdout",
     "output_type": "stream",
     "text": [
      "CPU times: user 5.3 ms, sys: 311 µs, total: 5.61 ms\n",
      "Wall time: 2.87 ms\n"
     ]
    },
    {
     "data": {
      "text/plain": [
       "array([[0. , 0. , 1. ],\n",
       "       [0. , 1. , 0. ],\n",
       "       [0. , 1. , 0. ],\n",
       "       [0. , 0.5, 0.5],\n",
       "       [0. , 1. , 0. ],\n",
       "       [1. , 0. , 0. ],\n",
       "       [1. , 0. , 0. ],\n",
       "       [1. , 0. , 0. ],\n",
       "       [0. , 1. , 0. ],\n",
       "       [0. , 1. , 0. ],\n",
       "       [1. , 0. , 0. ],\n",
       "       [0. , 0. , 1. ],\n",
       "       [0. , 0. , 1. ],\n",
       "       [0. , 1. , 0. ],\n",
       "       [1. , 0. , 0. ]])"
      ]
     },
     "execution_count": 14,
     "metadata": {},
     "output_type": "execute_result"
    }
   ],
   "source": [
    "%time my_clf.predict_proba(X_test)"
   ]
  },
  {
   "cell_type": "markdown",
   "metadata": {},
   "source": [
    "###### Задание 3 (1 балл)\n",
    "Добавьте algorithm='kd_tree' в реализацию KNN (использовать KDTree из sklearn.neighbors). Необходимо добиться скорости работы на fit,  predict и predict_proba сравнимой со sklearn для iris.\n",
    "Для этого используем numpy. Score не должен уступать значению KNN из sklearn"
   ]
  },
  {
   "cell_type": "code",
   "execution_count": 15,
   "metadata": {},
   "outputs": [],
   "source": [
    "clf = KNeighborsClassifier(n_neighbors=2, algorithm = 'kd_tree')\n",
    "my_clf = MyKNeighborsClassifier(n_neighbors=2, algorithm = 'kd_tree')"
   ]
  },
  {
   "cell_type": "code",
   "execution_count": 16,
   "metadata": {},
   "outputs": [],
   "source": [
    "X_train, X_test, y_train, y_test = train_test_split(iris.data, iris.target, test_size = 0.1, stratify = iris.target)"
   ]
  },
  {
   "cell_type": "code",
   "execution_count": 17,
   "metadata": {},
   "outputs": [
    {
     "name": "stdout",
     "output_type": "stream",
     "text": [
      "CPU times: user 2.31 ms, sys: 340 µs, total: 2.65 ms\n",
      "Wall time: 2.47 ms\n"
     ]
    },
    {
     "data": {
      "text/plain": [
       "KNeighborsClassifier(algorithm='kd_tree', leaf_size=30, metric='minkowski',\n",
       "                     metric_params=None, n_jobs=None, n_neighbors=2, p=2,\n",
       "                     weights='uniform')"
      ]
     },
     "execution_count": 17,
     "metadata": {},
     "output_type": "execute_result"
    }
   ],
   "source": [
    "%time clf.fit(X_train, y_train)"
   ]
  },
  {
   "cell_type": "code",
   "execution_count": 18,
   "metadata": {},
   "outputs": [
    {
     "name": "stdout",
     "output_type": "stream",
     "text": [
      "CPU times: user 7.08 ms, sys: 0 ns, total: 7.08 ms\n",
      "Wall time: 5.5 ms\n"
     ]
    }
   ],
   "source": [
    "%time my_clf.fit(X_train, y_train)"
   ]
  },
  {
   "cell_type": "code",
   "execution_count": 76,
   "metadata": {},
   "outputs": [
    {
     "name": "stdout",
     "output_type": "stream",
     "text": [
      "CPU times: user 4.18 ms, sys: 657 µs, total: 4.84 ms\n",
      "Wall time: 3.94 ms\n"
     ]
    },
    {
     "data": {
      "text/plain": [
       "array([2, 0, 0, 1, 0, 2, 2, 1, 0, 2, 1, 1, 0, 1, 1])"
      ]
     },
     "execution_count": 76,
     "metadata": {},
     "output_type": "execute_result"
    }
   ],
   "source": [
    "%time clf.predict(X_test)"
   ]
  },
  {
   "cell_type": "code",
   "execution_count": 77,
   "metadata": {},
   "outputs": [
    {
     "name": "stdout",
     "output_type": "stream",
     "text": [
      "CPU times: user 6.52 ms, sys: 7.27 ms, total: 13.8 ms\n",
      "Wall time: 11.5 ms\n"
     ]
    },
    {
     "data": {
      "text/plain": [
       "array([2, 0, 0, 1, 0, 2, 2, 1, 0, 2, 1, 1, 0, 1, 1])"
      ]
     },
     "execution_count": 77,
     "metadata": {},
     "output_type": "execute_result"
    }
   ],
   "source": [
    "%time my_clf.predict(X_test)"
   ]
  },
  {
   "cell_type": "code",
   "execution_count": 78,
   "metadata": {},
   "outputs": [
    {
     "name": "stdout",
     "output_type": "stream",
     "text": [
      "CPU times: user 1.58 ms, sys: 252 µs, total: 1.83 ms\n",
      "Wall time: 2.9 ms\n"
     ]
    },
    {
     "data": {
      "text/plain": [
       "array([[0., 0., 1.],\n",
       "       [1., 0., 0.],\n",
       "       [1., 0., 0.],\n",
       "       [0., 1., 0.],\n",
       "       [1., 0., 0.],\n",
       "       [0., 0., 1.],\n",
       "       [0., 0., 1.],\n",
       "       [0., 1., 0.],\n",
       "       [1., 0., 0.],\n",
       "       [0., 0., 1.],\n",
       "       [0., 1., 0.],\n",
       "       [0., 1., 0.],\n",
       "       [1., 0., 0.],\n",
       "       [0., 1., 0.],\n",
       "       [0., 1., 0.]])"
      ]
     },
     "execution_count": 78,
     "metadata": {},
     "output_type": "execute_result"
    }
   ],
   "source": [
    "%time clf.predict_proba(X_test)"
   ]
  },
  {
   "cell_type": "code",
   "execution_count": 79,
   "metadata": {},
   "outputs": [
    {
     "name": "stdout",
     "output_type": "stream",
     "text": [
      "CPU times: user 5.41 ms, sys: 213 µs, total: 5.62 ms\n",
      "Wall time: 3.35 ms\n"
     ]
    },
    {
     "data": {
      "text/plain": [
       "array([[0., 0., 1.],\n",
       "       [1., 0., 0.],\n",
       "       [1., 0., 0.],\n",
       "       [0., 1., 0.],\n",
       "       [1., 0., 0.],\n",
       "       [0., 0., 1.],\n",
       "       [0., 0., 1.],\n",
       "       [0., 1., 0.],\n",
       "       [1., 0., 0.],\n",
       "       [0., 0., 1.],\n",
       "       [0., 1., 0.],\n",
       "       [0., 1., 0.],\n",
       "       [1., 0., 0.],\n",
       "       [0., 1., 0.],\n",
       "       [0., 1., 0.]])"
      ]
     },
     "execution_count": 79,
     "metadata": {},
     "output_type": "execute_result"
    }
   ],
   "source": [
    "%time my_clf.predict_proba(X_test)"
   ]
  },
  {
   "cell_type": "code",
   "execution_count": 80,
   "metadata": {},
   "outputs": [],
   "source": [
    "assert abs(my_clf.score(X_test, y_test) - clf.score(X_test,y_test)) < 0.005, \"Score must be simillar\""
   ]
  },
  {
   "cell_type": "markdown",
   "metadata": {},
   "source": [
    "**Задание 4 (2.5 балла)**\n",
    "\n",
    "Рассмотрим новый датасет 20 newsgroups"
   ]
  },
  {
   "cell_type": "code",
   "execution_count": 3,
   "metadata": {},
   "outputs": [],
   "source": [
    "newsgroups = fetch_20newsgroups(subset ='train',remove = ['headers','footers', 'quotes'])"
   ]
  },
  {
   "cell_type": "code",
   "execution_count": 4,
   "metadata": {},
   "outputs": [],
   "source": [
    "data = newsgroups['data']\n",
    "target = newsgroups['target']\n",
    "# len(data)"
   ]
  },
  {
   "cell_type": "markdown",
   "metadata": {},
   "source": [
    "Переведите во всех документах все буквы в нижний регистр и замените во всех документах символы, не\n",
    "являющиеся буквами и цифрами, на пробелы. Далее разбейте текста по пробельным символам на токены(термы/слова). Удалите текста, содержащие только пробелы."
   ]
  },
  {
   "cell_type": "code",
   "execution_count": 5,
   "metadata": {},
   "outputs": [],
   "source": [
    "targets = list()#targets for not empty texts\n",
    "data_tk = [text.lower() for text in data if text]\n",
    "data_tok = []\n",
    "i = 0\n",
    "for text in data_tk:\n",
    "    if text:\n",
    "        targets.append(target[i])\n",
    "    txt = ''.join([' ' if not (c.isdigit() or c.isalpha()) else c for c in text])\n",
    "    splitted = txt.split(' ')\n",
    "    data_tok.append(splitted)\n",
    "    i += 1\n",
    "targets = np.array(target)\n",
    "# print(targets)\n",
    "# print(len(data_tok))\n",
    "#realize here\n",
    "# data_tok should be a list of lists of tokens for each line in data."
   ]
  },
  {
   "cell_type": "code",
   "execution_count": 6,
   "metadata": {},
   "outputs": [],
   "source": [
    "assert all(isinstance(row, (list, tuple)) for row in data_tok), \"please convert each line into a list of tokens (strings)\"\n",
    "assert all(all(isinstance(tok, str) for tok in row) for row in data_tok), \"please convert each line into a list of tokens (strings)\"\n",
    "is_latin = lambda tok: all('a' <= x.lower() <= 'z' for x in tok)\n",
    "assert all(map(lambda l: not is_latin(l) or l.islower() , map(' '.join, data_tok))), \"please make sure that you lowercase the data and drop spaced texts\""
   ]
  },
  {
   "cell_type": "markdown",
   "metadata": {},
   "source": [
    "Преобразуйте датасет в разреженную матрицу scipy.sparse.csr_matrix, где значение x в позиции (i, j)\n",
    "означает, что в документе i слово j встретилось x раз"
   ]
  },
  {
   "cell_type": "code",
   "execution_count": 7,
   "metadata": {},
   "outputs": [],
   "source": [
    "#map word on number(1<->1), used in csr\n",
    "uniquedict = {}#ordereddict {'word':amount} for all words in all texts\n",
    "uniquemap = {}\n",
    "n = 0\n",
    "#forming uniquemap() and uniquedict()\n",
    "for sublist in data_tok:\n",
    "    for item in sublist:\n",
    "        if item not in uniquedict.keys():\n",
    "            uniquedict[item] = 1\n",
    "            uniquemap[item] = n\n",
    "            n += 1\n",
    "        else:\n",
    "            uniquedict[item] += 1\n",
    "\n",
    "            #get list of tuples(later will be turned into Ordereddict())            \n",
    "uniquedict = OrderedDict(sorted(uniquedict.items(),key = lambda x: x[1]))"
   ]
  },
  {
   "cell_type": "code",
   "execution_count": 8,
   "metadata": {},
   "outputs": [],
   "source": [
    "#let size be nearly 32871900000 bytes\n",
    "#free RAM volume nearly 3543348019.2 bytes\n",
    "#delta = 3543348019.2 bytes\n",
    "#one word occupies nearly 332880 bytes in matrix\n",
    "#we have to throw out nearly 10645 features(words), let us throw 9645 most rare,1000 most common features\n",
    "# def deletefeatures(uniquedict,rare,common):\n",
    "#     for i in range(0,rare):\n",
    "#         uniquedict.pop(0)\n",
    "#     for i in range(0,common):\n",
    "#         uniquedict.pop()\n",
    "        \n",
    "# print(len(uniquedict))\n",
    "# # deletefeatures(uniquedict,rare = 20000,common = 4500)\n",
    "# print(len(uniquedict))\n",
    "# uniquedict = OrderedDict(uniquedict)\n",
    "# uniquedict.keys()"
   ]
  },
  {
   "cell_type": "code",
   "execution_count": 9,
   "metadata": {},
   "outputs": [
    {
     "name": "stdout",
     "output_type": "stream",
     "text": [
      "CPU times: user 2 µs, sys: 0 ns, total: 2 µs\n",
      "Wall time: 4.53 µs\n",
      "True\n"
     ]
    }
   ],
   "source": [
    "%time \n",
    "print('cheques' in uniquedict.keys())"
   ]
  },
  {
   "cell_type": "code",
   "execution_count": 10,
   "metadata": {},
   "outputs": [
    {
     "data": {
      "text/plain": [
       "(11096, 98750)"
      ]
     },
     "execution_count": 10,
     "metadata": {},
     "output_type": "execute_result"
    }
   ],
   "source": [
    "#forming dict of dicts for every text\n",
    "lst_counters = {}\n",
    "i = 0\n",
    "for lst in data_tok:\n",
    "    lst_counter = Counter(lst)\n",
    "    lst_counters[i] = lst_counter\n",
    "    i += 1\n",
    "\n",
    "data = []\n",
    "row = []\n",
    "column = []\n",
    "\n",
    "for i in lst_counters.keys():\n",
    "    lst_counter = lst_counters[i]\n",
    "    for key in lst_counter.keys():\n",
    "        row.append(i)\n",
    "        column.append(uniquemap[key])\n",
    "        data.append(lst_counter[key])\n",
    "            \n",
    "csr_mtrx = sparse.csr_matrix((data,(row,column)),dtype = np.int)\n",
    "csr_mtrx.shape\n",
    "\n",
    "# npcolumn = np.array(column)\n",
    "# nprow = np.array(row)\n",
    "# npdata = np.array(data)\n",
    "# print(len(npcolumn),len(nprow),len(npdata))"
   ]
  },
  {
   "cell_type": "code",
   "execution_count": 11,
   "metadata": {},
   "outputs": [
    {
     "name": "stdout",
     "output_type": "stream",
     "text": [
      "<class 'scipy.sparse.csr.csr_matrix'>\n"
     ]
    }
   ],
   "source": [
    "print(type(csr_mtrx))"
   ]
  },
  {
   "cell_type": "markdown",
   "metadata": {},
   "source": [
    "*Так мы получили векторное представление наших текстов. Значит можно приступать к задаче обучения модели*"
   ]
  },
  {
   "cell_type": "markdown",
   "metadata": {},
   "source": [
    "Реализуйте разбиение выборки для кросс-валидации на 3 фолдах. Разрешено использовать sklearn.cross_validation"
   ]
  },
  {
   "cell_type": "code",
   "execution_count": 12,
   "metadata": {},
   "outputs": [],
   "source": [
    "# X_train,X_test,y_train,y_test = train_test_split(csr_mtrx,target,test_size=0.1,stratify = target)\n",
    "kf = KFold(n_splits = 3)\n",
    "\n",
    "X_train_folds, X_test_folds, y_train_folds, y_test_folds = (list(),list(),list(),list())\n",
    "\n",
    "#getting 3 folds\n",
    "for train_index, test_index in kf.split(csr_mtrx):\n",
    "    X_train, X_test = csr_mtrx[train_index], csr_mtrx[test_index]\n",
    "    y_train, y_test = targets[train_index], targets[test_index]\n",
    "    X_train_folds.append(X_train)\n",
    "    X_test_folds.append(X_test)\n",
    "    y_train_folds.append(y_train)\n",
    "    y_test_folds.append(y_test)"
   ]
  },
  {
   "cell_type": "code",
   "execution_count": 66,
   "metadata": {},
   "outputs": [
    {
     "name": "stdout",
     "output_type": "stream",
     "text": [
      "()\n"
     ]
    }
   ],
   "source": [
    "print(np.asarray(X_train).reshape)"
   ]
  },
  {
   "cell_type": "markdown",
   "metadata": {},
   "source": [
    "Напишите метод, позволяющий найти оптимальное количество ближайших соседей(дающее максимальный score в среднем на валидации на 3 фолдах).\n",
    "Постройте график зависимости среднего score от количества соседей. Можно рассмотреть число соседей от 1 до 10."
   ]
  },
  {
   "cell_type": "code",
   "execution_count": null,
   "metadata": {},
   "outputs": [],
   "source": [
    "def optimalneighbors(X_train_folds,y_train_folds,X_test_folds,y_test_folds,n_neighbors = 10,folds = 3):\n",
    "    score_for_n = list()\n",
    "    for i in range(1,n_neighbors):\n",
    "        myknn = MyKNeighborsClassifier(n_neighbors = i,algorithm = 'kd_tree')\n",
    "        for fold in range(0,folds):\n",
    "            myknn.fit(X_train_folds[fold].todense(),y_train_folds[fold])\n",
    "            score_for_n.append((i,myknn.score(X_test_folds[fold],y_test_folds[fold])))\n",
    "    print(score_for_n)\n",
    "    \n",
    "# print(X_test_folds[2].shape)\n",
    "optimalneighbors(X_train_folds,y_train_folds,X_test_folds,y_test_folds)\n",
    "#not enougth memory"
   ]
  },
  {
   "cell_type": "markdown",
   "metadata": {},
   "source": [
    "Как изменится качество на валидации, если:\n",
    "\n",
    "1. Используется косинусная метрика вместо евклидовой.\n",
    "2. К текстам применяется TfIdf преобразование( sklearn.feature_extraction.text.TfidfTransformer)\n",
    "\n",
    "Сравните модели, выберите лучшую."
   ]
  },
  {
   "cell_type": "markdown",
   "metadata": {},
   "source": [
    "Загрузим  теперь test  часть нашей выборки и преобразуем её аналогично с train частью. Не забудьте, что наборы слов в train и test части могут отличаться."
   ]
  },
  {
   "cell_type": "code",
   "execution_count": null,
   "metadata": {},
   "outputs": [],
   "source": [
    "newsgroups = fetch_20newsgroups(subset='test',remove=['headers','footers', 'quotes'])"
   ]
  },
  {
   "cell_type": "markdown",
   "metadata": {},
   "source": [
    "Оценим качество(score) вашей лучшей модели на test части датасета. Отличается ли оно от кросс-валидации? Попробуйте сделать выводы, почему отличается качество."
   ]
  },
  {
   "cell_type": "code",
   "execution_count": null,
   "metadata": {},
   "outputs": [],
   "source": []
  },
  {
   "cell_type": "code",
   "execution_count": null,
   "metadata": {},
   "outputs": [],
   "source": []
  }
 ],
 "metadata": {
  "kernelspec": {
   "display_name": "Python 3",
   "language": "python",
   "name": "python3"
  },
  "language_info": {
   "codemirror_mode": {
    "name": "ipython",
    "version": 3
   },
   "file_extension": ".py",
   "mimetype": "text/x-python",
   "name": "python",
   "nbconvert_exporter": "python",
   "pygments_lexer": "ipython3",
   "version": "3.7.4"
  }
 },
 "nbformat": 4,
 "nbformat_minor": 2
}
