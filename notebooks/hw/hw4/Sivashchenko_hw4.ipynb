{
 "cells": [
  {
   "cell_type": "markdown",
   "metadata": {},
   "source": [
    "# Алгоритмы интеллектуальной обработки больших объемов данных\n",
    "## Домашнее задание №4 - Алгоритмы кластеризации\n"
   ]
  },
  {
   "cell_type": "markdown",
   "metadata": {},
   "source": [
    "###### <hr\\>\n",
    "**Общая информация**\n",
    "\n",
    "**Срок сдачи:** 10 декабря 2019, 06:00 <br\\>\n",
    "**Штраф за опоздание:** -2 балла после 06:00 10 декабря, -4 балла после 06:00 17 декабря, -6 баллов после 06:00 24 декабря -8 баллов  после 06:00 31 декабря\n",
    "\n",
    "При отправлении ДЗ указывайте фамилию в названии файла Присылать ДЗ необходимо в виде ссылки на свой github репозиторий на почту ml1.sphere@mail.ru с указанием темы в следующем формате:\n",
    "[ML0919, Задание 4] Фамилия Имя\n",
    "\n",
    "Используйте данный Ipython Notebook при оформлении домашнего задания.\n",
    "<hr\\>"
   ]
  },
  {
   "cell_type": "markdown",
   "metadata": {},
   "source": [
    "**Из чего состоит задание:**\n",
    "\n",
    "###### Теоретические вопросы (2 балла)\n",
    "\n",
    "###### Реализация алгоритма кластеризации (5 баллов)\n",
    "\n",
    "###### Боевое применение (3 балла)\n",
    "\n",
    "\n"
   ]
  },
  {
   "cell_type": "markdown",
   "metadata": {},
   "source": [
    "**Штрафные баллы:**\n",
    "\n",
    "1. Невыполнение PEP8 -1 балл\n",
    "2. Отсутствие фамилии в имени скрипта (скрипт должен называться по аналогии со stroykova_hw4.ipynb) -1 балл\n",
    "3. Все строчки должны быть выполнены. Нужно, чтобы output команды можно было увидеть уже в git'е. В противном случае -1 балл\n",
    "4. При оформлении ДЗ нужно пользоваться данным файлом в качестве шаблона. Не нужно удалять и видоизменять написанный код и текст. В противном случае -1 балл"
   ]
  },
  {
   "cell_type": "code",
   "execution_count": 6,
   "metadata": {},
   "outputs": [
    {
     "name": "stdout",
     "output_type": "stream",
     "text": [
      "Populating the interactive namespace from numpy and matplotlib\n"
     ]
    },
    {
     "name": "stderr",
     "output_type": "stream",
     "text": [
      "/home/maxkile/.conda/envs/main/lib/python3.7/site-packages/IPython/core/magics/pylab.py:160: UserWarning: pylab import has clobbered these variables: ['copy']\n",
      "`%matplotlib` prevents importing * from pylab and numpy\n",
      "  \"\\n`%matplotlib` prevents importing * from pylab and numpy\"\n"
     ]
    }
   ],
   "source": [
    "import time\n",
    "import pandas as pd\n",
    "import pylab as pl\n",
    "import numpy as np\n",
    "import scipy.spatial as ss\n",
    "import sklearn.cluster as sc\n",
    "import sklearn.manifold as sm\n",
    "import sklearn.datasets as ds\n",
    "import sklearn.metrics as smt\n",
    "from sklearn.mixture import GaussianMixture\n",
    "from sklearn.cluster import AgglomerativeClustering\n",
    "\n",
    "import matplotlib.pyplot as plt\n",
    "\n",
    "%matplotlib inline\n",
    "\n",
    "plt.style.use('ggplot')\n",
    "plt.rcParams['figure.figsize'] = (12,5)\n",
    "\n",
    "# Plotting config\n",
    "%pylab inline"
   ]
  },
  {
   "cell_type": "markdown",
   "metadata": {},
   "source": [
    "# Теоретическое введение\n"
   ]
  },
  {
   "cell_type": "markdown",
   "metadata": {},
   "source": [
    "Основная задача кластерного анализа — разбиение исходного набора объектов на группы (кластеры) таким образом, чтобы объекты в группе были похожи друг на друга, а объекты из разных групп - отличались. \n",
    "\n",
    "В этой работе мы будем реализовывать агломеративную кластеризацию. "
   ]
  },
  {
   "cell_type": "markdown",
   "metadata": {
    "collapsed": true
   },
   "source": [
    "## Агломеративная кластеризация"
   ]
  },
  {
   "cell_type": "markdown",
   "metadata": {},
   "source": [
    "Иерархические алгоритмы кластеризации строят на выборке систему вложенных разбиений.  Наиболее часто испоьзуемые иерархические алгоритмы - агломеративные алгоритмы, которые строят ирархию по восходящей, то есть от момента, когда все элементы являются отдельными кластерами, до того момента, пока вся выборка не станет одним кластером."
   ]
  },
  {
   "cell_type": "markdown",
   "metadata": {},
   "source": [
    "Сам алгоритм описать можно примерно так:\n",
    "\n",
    "* начинаем с ситуации, когда каждый объект - отдельный кластер\n",
    "* на каждом шаге совмещаем два наиболее близких кластера\n",
    "* останавливаемся, когда получаем требуемое количество или единственный кластер"
   ]
  },
  {
   "cell_type": "markdown",
   "metadata": {},
   "source": [
    "\n",
    "В данной работе Вам предлагается реализовать три варианта расстояний между кластерами, по которым Вы определяете пару для слияния: \n",
    "* Single linkage\n",
    "$$ d_{min}(C_i, C_j) = \\min_{\\mathbf{x} \\in C_i, \\mathbf{x}' \\in C_j} \\|\\mathbf{x} -\\mathbf{x}' \\| $$\n",
    "\n",
    "* Complete linkage\n",
    "$$ d_{max}(C_i, C_j) = \\max_{\\mathbf{x} \\in C_i, \\mathbf{x}' \\in C_j} \\|\\mathbf{x} -\\mathbf{x}' \\| $$\n",
    "\n",
    "* Average linkage\n",
    "$$ d_{avg}(C_i, C_j) = \\frac{1}{n_i n_j}\\sum_{\\mathbf{x} \\in C_i}\\sum_{\\mathbf{x}' \\in C_j} \\|\\mathbf{x} -\\mathbf{x}' \\| $$\n",
    "\n",
    "Как считать расстояние $\\|\\mathbf{x} -\\mathbf{x}' \\|$ между объектами Вы должны выбрать сами.  Вы должны четко понимать, что выбор расстояния между объектами - самое важное в такого рода алгоритмах. Передавайте название расстояния в конструктор класса, а потом, в зависимости от названия, применяете ту или иную функцию для подсчета расстояния. \n",
    "\n"
   ]
  },
  {
   "cell_type": "markdown",
   "metadata": {},
   "source": [
    "Для того, чтобы на втором этапе нам не пересчитывать заново расстояния между всеми парами кластеров, можно использовать Формулы Ланса-Вильямса, которые позволяют посчитать расстояние между кластерами после объединения, используя только расстояния между кластерами до объедения.  Таким образом, достаточно будет посчитать расстояния только между всеми одноэлементными кластерами (первый этап), а затем пересчитывать расстояния при их объединении через \n",
    "формулы Ланса-Вильямса. \n",
    "\n",
    "Общая  формула выглядит так:\n",
    "$$ d(C_i \\cup C_j, C_k) = a_i \\cdot d(C_i, C_k) + a_j \\cdot d(C_j, C_k) + b \\cdot d(C_i, C_j) + c \\cdot |d(C_i, C_k) - d(C_j, C_k)|$$\n",
    "\n",
    "Можно показать, что все относительно разумные кластерные расстояния можно описать данной формулой. \n",
    "\n",
    "Для интересущих нас linkage:\n",
    "\n",
    "* single-linkage       $a_i = \\frac{1}{2}, a_j =  \\frac{1}{2}, b = 0, c =  - \\frac{1}{2} $\n",
    "\n",
    "* complete-linkage     $a_i = \\frac{1}{2}, a_j =  \\frac{1}{2}, b = 0, c =   \\frac{1}{2} $\n",
    "\n",
    "* average-linkage       $a_i = \\frac{|C_i|}{|C_i \\cup C_j|}, a_j =  \\frac{|C_j|}{|C_i \\cup C_j|}, b = 0, c = 0 $\n",
    "\n"
   ]
  },
  {
   "cell_type": "markdown",
   "metadata": {},
   "source": [
    "# Теоретические вопросы (2 балла)\n",
    "В этой части Вам будут предложены теоретичские вопросы и задачи по теме. Вы, конечно, можете списать их у своего товарища или найти решение в интернете, но учтите, что они обязательно войдут в теоретический коллоквиум. Лучше разобраться в теме сейчас и успешно ответить на коллоквиуме, чем списать, не разобравшись в материале, и быть терзаемым совестью. \n",
    "\n",
    "\n",
    "Формулы надо оформлять в формате **LaTeX**."
   ]
  },
  {
   "cell_type": "markdown",
   "metadata": {},
   "source": [
    "Задача 1. Сходимость kmeans.\n",
    "\n",
    "Докажите, что kmeans всегда сходится, и итераций не будет превышать $k^N$, где $k$ $-$ число кластеров, $N$ $-$ число объектов\n",
    "\n",
    "Подсказка: Вам стоит рассмотреть функционал, который минимизирует алгоритм, и подумать, как он изменяется на E шаге и на M шаге.\n",
    "\n"
   ]
  },
  {
   "cell_type": "markdown",
   "metadata": {},
   "source": [
    "###### Решение:\n",
    "Считаем индикатор $r_{n,k}$ так, что: $\\| x_n -\\nu_n \\| \\rightarrow$ min для $n$-го объекта.\n",
    "\n",
    "Минимизируемый функционал монотонно не возрастает, так как на каждом шагу соответствующие расстояния неувеличиваются, а центры кластеров пересчитываются так, что функционал $Q$ минимизируется. В силу того, что кластеров конечное число K, монотонно невозрастающая функция достигнет минимума(может свалиться в локальный)ю\n",
    "\n",
    "Число итераций не превышает число объектов в силу того, что $N$ объектов можно разбить на $k$ кластеров $k^{N}$ способами, а на каждом шаге мы кластеризуем лишь один объект $\\Rightarrow$ всего итераций не больше $k^{N}$"
   ]
  },
  {
   "cell_type": "markdown",
   "metadata": {},
   "source": [
    "Задача 2.  ММП для многомерного нормального распределения.\n",
    "\n",
    "Функция правдоподобия в общем случае записывается как:\n",
    "￼\n",
    "￼$$ L(\\theta) = p(X | \\theta ) = \\prod_{i=1}^N p(x_i | \\theta)$$\n",
    "\n",
    "Для многомерного нормального распределения плотность вероятности:\n",
    "$$p(x_i| \\theta) = \\frac{1}{(2\\pi)^{n/2}|\\Sigma|^{1/2}}e^{-\\frac{1}{2} (x_i - \\mu)^T\\Sigma^{-1}(x_i - \\mu)}$$\n",
    "\n",
    "Выведите ММП оценку для вектора $\\mu$\n",
    "￼"
   ]
  },
  {
   "cell_type": "markdown",
   "metadata": {},
   "source": [
    "###### Решение: \n",
    "$X$ = ($X_1$,$X_2$,...,$X_n$)\n",
    "\n",
    "$X_1$ = ($x_{1,1}$,$x_{1,2}$,...,$x_{1,m}$)\n",
    "\n",
    "...\n",
    "\n",
    "$X_n$ = ($x_{n,1}$,$x_{n,2}$,...,$x_{n,m}$)\n",
    "\n",
    "Функция правдоподобия: $L(\\theta)$ = $p(X|\\theta)$ = $\\prod\\limits_{n = 1}^{N}$ $p(X_n|\\theta)$ = $\\frac{1}{(2\\pi)^\\frac{Nn}{2}|\\sum^{\\frac{N}{2}}|} \\exp^{-\\frac{1}{2}(X_1 - \\mu)^{T}\\sum^{-1}(X_1 - \\mu) \\space - \\space ... \\space - \\space \\frac{1}{2}(X_n - \\mu)^{T}\\sum^{-1}(X_n - \\mu)}$\n",
    "$\\Rightarrow$\n",
    "\n",
    "$\\Rightarrow$ \n",
    "$\\log{L(\\theta)}$ = $-\\frac{1}{2}(X_1 - thetamu)^{T}\\sum^{-1}(X_1 - \\theta) \\space - \\space ... \\space - \\space \\frac{1}{2}(X_n - \\theta)^{T}\\sum^{-1}(X_n - \\theta)$ - $\\log(a)$, где a - константа.\n",
    "\n",
    "Нули производной: $\\frac{\\partial \\log{L(\\theta)}}{\\partial \\theta}$ = $\\frac{\\partial }{\\partial \\theta}(-\\frac{1}{2}(X_1 - \\theta)^{T}\\sum^{-1}(X_1 - \\theta) \\space - \\space ... \\space - \\space \\frac{1}{2}(X_n - \\mu)^{T}\\sum^{-1}(X_n - \\theta))$ = 0 $\\Leftrightarrow$\n",
    "\n",
    "$\\Leftrightarrow$\n",
    "$\\sum_{i = 1}^{N}(\\sum^{-1} + (\\sum^{-1})^{T})(X_i - \\theta) = 0$\n",
    "$\\Leftrightarrow$\n",
    "\n",
    "$\\Leftrightarrow$\n",
    "$\\theta = \\frac{\\sum_{i = 1}^{n}X_i}{n}$\n",
    "\n"
   ]
  },
  {
   "cell_type": "markdown",
   "metadata": {},
   "source": [
    "Задача 3. Формулы Ланса-Вильямса.\n",
    "\n",
    "Формулы Ланса-Вильямса крайне удобны для быстрого пересчта расстояний в агломеративной кластеризации. Давайте докажем  формулы для single и complete linkage. \n",
    "\n",
    "Докажите, что:\n",
    "\n",
    "$d_{\\min}(U \\cup V, S) = \\frac{1}{2} d_{\\min}(U, S) + \\frac{1}{2} d_{\\min}(V, S)  - \\frac{1}{2} | d_{\\min}(U, S) - d_{\\min}(V, S) |  $\n",
    "\n",
    "\n",
    "$d_{\\max}(U \\cup V, S) = \\frac{1}{2} d_{\\max}(U, S) + \\frac{1}{2} d_{\\max}(V, S)  + \\frac{1}{2} | d_{\\max}(U, S) - d_{\\max}(V, S) |  $\n",
    "\n",
    "\n"
   ]
  },
  {
   "cell_type": "markdown",
   "metadata": {},
   "source": [
    "##### Решение:\n"
   ]
  },
  {
   "cell_type": "markdown",
   "metadata": {},
   "source": [
    "Заметим, что равенства выполняются для произвольных метрик и что:\n",
    "\n",
    "$min(a,b) = \\frac{a + b - |a - b|}{2}$\n",
    "\n",
    "$max(a,b) = \\frac{a + b + |a - b|}{2}$\n",
    "\n",
    "В силу того, что расстояние между кластерами определено как расстояние между ближайшими (наиболее удаленными) элементами, то можно свести задачу к отысканию минимума(максимума) между двумя числами."
   ]
  },
  {
   "cell_type": "markdown",
   "metadata": {},
   "source": [
    "# Реализация алгоритма кластеризации  (5 баллов)"
   ]
  },
  {
   "cell_type": "markdown",
   "metadata": {},
   "source": [
    "Алгоритм кластеризации должен удовлетворять следующему интерфейсу. Конструктор принимает набор параметров, необходимых для работы алгоритма кластеризации. Метод `fit` подсчитывает параметры модели и возвращает `self`. Метод `predict` возвращает вектор с индексами кластеров для поданных в него объектов `x`. "
   ]
  },
  {
   "cell_type": "code",
   "execution_count": 128,
   "metadata": {},
   "outputs": [],
   "source": [
    "import matplotlib.pyplot as plt\n",
    "import copy\n",
    "\n",
    "from sklearn.base import BaseEstimator, ClusterMixin\n",
    "from scipy.cluster import hierarchy\n",
    "from scipy.spatial.distance import cdist\n",
    "\n",
    "class Clustering(BaseEstimator, ClusterMixin):\n",
    "    \"\"\"\n",
    "    Implement clustering algorithm according \n",
    "    \"\"\"\n",
    "    \n",
    "    def __init__(self, linkage='single',n_clusters = 2,metric='euclidean',p = 2):\n",
    "        #linkages:single,complete\n",
    "        self.metric = metric\n",
    "        if (self.metric == 'minkowski'):\n",
    "            self.p = p\n",
    "        self.n_clusters = n_clusters\n",
    "        self.linkage = linkage\n",
    "        \n",
    "        if linkage == 'single':\n",
    "            self.alpha_i = 1/2\n",
    "            self.alpha_j = 1/2\n",
    "            self.gamma = -1/2\n",
    "        elif linkage == 'complete':\n",
    "            self.alpha_i = 1/2\n",
    "            self.alpha_j = 1/2\n",
    "            self.gamma = 1/2\n",
    "        elif linkage == 'median':\n",
    "            self.alpha_i = 1/2\n",
    "            self.alpha_j = -1/4\n",
    "            self.gamma = 0\n",
    "        return\n",
    "        \n",
    "    def fit_predict(self, x):\n",
    "        \"\"\"\n",
    "        Use data matrix x to compute model parameters and predict clusters\n",
    "        \"\"\"\n",
    "        distances = cdist(x,x,self.metric)\n",
    "        for i in range(len(x)):\n",
    "            distances[i][i] = np.inf\n",
    "\n",
    "        self.element_cluster = [[i] for i in range(len(x))]\n",
    "                \n",
    "        for i in range(distances.shape[0]):\n",
    "            distances[i][i] = np.inf\n",
    "            \n",
    "\n",
    "        old = copy.deepcopy(self.element_cluster)\n",
    "        \n",
    "        cluster_div = list()\n",
    "        for i in range(1,len(x)):#cluster unions number(objects - 1)\n",
    "            ind = np.unravel_index(np.argmin(distances), distances.shape)#find minimal distance(it's index)\n",
    "            \n",
    "            if i == len(x) - self.n_clusters + 1:#here we have n_clusters,furher we continue unite clasters,so we must remember current cluster distribution and return it\n",
    "                self.cluster_labels = copy.deepcopy(self.element_cluster)\n",
    "                \n",
    "            merging1 = self.element_cluster[ind[0]]#detecting merging clusters\n",
    "            merging2 = self.element_cluster[ind[1]]\n",
    "            \n",
    "            self.element_cluster.remove(merging1)#deleting merging clusters\n",
    "            self.element_cluster.remove(merging2)\n",
    "            \n",
    "            self.element_cluster.append(merging1+merging2)\n",
    "            old.append(merging1+merging2)\n",
    "            \n",
    "            cluster_div.append([old.index(merging1), old.index(merging2), distances[ind[0],ind[1]], len(merging1) + len(merging2)])\n",
    "            \n",
    "            newdists = np.ones(distances.shape[0])\n",
    "            newdists1 = np.ones(distances.shape[0]+1)\n",
    "            \n",
    "            if self.linkage=='average':\n",
    "                self.alpha_i = len(merging1) / (len(merging1) + len(tomerge2))#changing coefficents for distances recounting(Lance-Williams)\n",
    "                self.alpha_j = len(merging2) / (len(tomerge1) + len(tomerge2))\n",
    "            elif self.linkage =='centroid':\n",
    "                self.alpha_i = len(merging1) / (len(merging1) + len(tomerge2))\n",
    "                self.alpha_j = - len(merging1) * len(merging2) / (len(tomerge1) + len(tomerge2))^2\n",
    "                \n",
    "            for j in range(distances.shape[0]):\n",
    "                newdists[j] = self.alpha_i*distances[ind[0],j]+self.alpha_j*distances[ind[1],j]+self.gamma*abs(distances[ind[0],j]-distances[ind[1],j])\n",
    "                newdists1[j] = copy.deepcopy(newdists[j])\n",
    "                if j in ind:\n",
    "                    newdists[j] = np.inf\n",
    "                    newdists1[j] = np.inf        \n",
    "            \n",
    "            newdists=np.expand_dims(newdists, axis=1)\n",
    "            distances=np.concatenate((distances, newdists), 1)\n",
    "            \n",
    "            newdists1[distances.shape[0]]=np.inf\n",
    "            newdists1=np.expand_dims(newdists1, axis=0)\n",
    "            \n",
    "            distances=np.concatenate((distances, newdists1), 0)\n",
    "            distances=np.delete(distances,(ind[0],ind[1]), 0)\n",
    "            distances=np.delete(distances,(ind[0],ind[1]), 1)\n",
    "            \n",
    "#         self.element_cluster = old\n",
    "        self.cluster_div=np.array(cluster_div)\n",
    "    \n",
    "        labels = np.ones(len(x))\n",
    "        \n",
    "        for lbl, num in enumerate(self.cluster_labels):\n",
    "            labels[num] = lbl\n",
    "        return labels\n",
    "    \n",
    "    def plot_dendrogram(self):\n",
    "        hierarchy.dendrogram(self.cluster_div)"
   ]
  },
  {
   "cell_type": "markdown",
   "metadata": {},
   "source": [
    "Сначала проверим реализованный алгоритм кластеризации на классическом наборе данных [Iris](http://www.wikiwand.com/en/Iris_flower_data_set). Загрузим данные (они включены в библиотеку sklearn) и посмотрим на то, как они выглядят в двух проекциях (для простоты используем 2 класса из 3)."
   ]
  },
  {
   "cell_type": "code",
   "execution_count": 129,
   "metadata": {},
   "outputs": [
    {
     "data": {
      "image/png": "[encoded data removed]",
      "text/plain": [
       "<Figure size 720x360 with 2 Axes>"
      ]
     },
     "metadata": {
      "needs_background": "light"
     },
     "output_type": "display_data"
    }
   ],
   "source": [
    "iris = ds.load_iris()\n",
    "x_iris = iris.data[:100]\n",
    "y_iris = iris.target[:100]\n",
    "\n",
    "pl.figure(figsize=(10, 5))\n",
    "\n",
    "pl.subplot(1, 2, 1)\n",
    "pl.scatter(x_iris[:, 0], x_iris[:, 1], c=y_iris, cmap=pl.cm.PuOr, lw=0, s=30)\n",
    "plt.xlabel('Sepal length')\n",
    "plt.ylabel('Sepal width')\n",
    "\n",
    "pl.subplot(1, 2, 2)\n",
    "pl.scatter(x_iris[:, 2], x_iris[:, 3], c=y_iris, cmap=pl.cm.PuOr, lw=0, s=30)\n",
    "plt.xlabel('Petal length')\n",
    "plt.ylabel('Petal width')\n",
    "pl.show()"
   ]
  },
  {
   "cell_type": "markdown",
   "metadata": {},
   "source": [
    "Видно, что классы разделяются, поэтому можно надеяться, что наш алгоритм \"найдет\" кластеры, соответствующие исходным классам. Результат работы реализованного алгоритма кластеризации предлагается сравнить с эталонной кластеризацией. Для этого предлагается изучить метрику ([adjusted rand score](http://scikit-learn.org/stable/modules/generated/sklearn.metrics.adjusted_rand_score.html)). В случае если значение этой метрики отличается от 1, предлагается поработать над улучшением реализации своего алгоритма."
   ]
  },
  {
   "cell_type": "code",
   "execution_count": 161,
   "metadata": {},
   "outputs": [
    {
     "name": "stdout",
     "output_type": "stream",
     "text": [
      " Sklearn AGGL score 1.0. Sklearn AGGL time 0.007863521575927734\n"
     ]
    }
   ],
   "source": [
    "# Давайте проверим, как справляются sklearn реализации\n",
    "sklearn_aggl = AgglomerativeClustering(n_clusters=2)\n",
    "aggl_t0 = time.time()\n",
    "aggl_pred = sklearn_aggl.fit_predict(x_iris)\n",
    "aggl_diff = time.time() - aggl_t0\n",
    "aggl_score = smt.adjusted_rand_score(y_iris, aggl_pred)\n",
    "print (\" Sklearn AGGL score {}. Sklearn AGGL time {}\".format(aggl_score, aggl_diff))"
   ]
  },
  {
   "cell_type": "code",
   "execution_count": 154,
   "metadata": {},
   "outputs": [
    {
     "name": "stdout",
     "output_type": "stream",
     "text": [
      "Our AGGL score 1.0. Our AGGL time 0.05158376693725586\n"
     ]
    },
    {
     "name": "stderr",
     "output_type": "stream",
     "text": [
      "/home/maxkile/.conda/envs/main/lib/python3.7/site-packages/ipykernel_launcher.py:80: RuntimeWarning: invalid value encountered in double_scalars\n"
     ]
    }
   ],
   "source": [
    "# Здесь предскажем кластера, посчитаем метрику кластеризации и время работы, сравним со склерном\n",
    "сustum_aggl = Clustering(metric='euclidean',n_clusters=2)\n",
    "aggl_t0 = time.time()\n",
    "aggl_pred = сustum_aggl.fit_predict(x_iris)\n",
    "aggl_diff = time.time() - aggl_t0\n",
    "aggl_score = smt.adjusted_rand_score(y_iris, aggl_pred)\n",
    "print (\"Our AGGL score {}. Our AGGL time {}\".format(aggl_score, aggl_diff))"
   ]
  },
  {
   "cell_type": "code",
   "execution_count": 132,
   "metadata": {},
   "outputs": [
    {
     "data": {
      "image/png": "[encoded data removed]",
      "text/plain": [
       "<Figure size 432x288 with 1 Axes>"
      ]
     },
     "metadata": {
      "needs_background": "light"
     },
     "output_type": "display_data"
    }
   ],
   "source": [
    "сustum_aggl.plot_dendrogram()"
   ]
  },
  {
   "cell_type": "markdown",
   "metadata": {
    "collapsed": true
   },
   "source": [
    "# Боевое применение (3  балла)\n"
   ]
  },
  {
   "cell_type": "markdown",
   "metadata": {
    "collapsed": true
   },
   "source": [
    "Алгоритмы кластеризации прекрасны тем, что они позволяют быстро понять, как устроены наши данные. Давайте применим Ваш алгоритм для нашего конкурса!"
   ]
  },
  {
   "cell_type": "markdown",
   "metadata": {},
   "source": [
    "Будем рассматривать каждую группу независимо от других групп. На каждой группе применим наш алгоритм и отрисуем денденограмму. По результатам кластерного анализа, Вам нужно ответить на следующие вопросы:\n",
    "\n",
    "1) Можно ли по дендонаграмме (или по другим результатам кластеризации) сказать, где в группе аномалии? Каким образом?\n",
    "\n",
    "2) Какое расстояние лучше использовать между заголовками страниц для кластеризации? \n",
    "\n",
    "2) Какое качество f1_score Вы смогли получить на обучающем множестве методами кластеризации? (валидацию можете не делать, если таргет не используете)\n",
    "\n",
    "4) Как можно результат кластеризации затем использовать для  финальной модели обучения с учителем?"
   ]
  },
  {
   "cell_type": "markdown",
   "metadata": {},
   "source": [
    "Подсказка: самое важное - выбрать расстояние между заголовками. Самый простой вариант:  процент различных слов в двух заголовках."
   ]
  },
  {
   "cell_type": "code",
   "execution_count": 8,
   "metadata": {},
   "outputs": [
    {
     "name": "stdout",
     "output_type": "stream",
     "text": [
      "28026\n"
     ]
    }
   ],
   "source": [
    "doc_to_title = {}\n",
    "with open('docs_titles.tsv') as f:\n",
    "    for num_line, line in enumerate(f):\n",
    "        if num_line == 0:\n",
    "            continue\n",
    "        data = line.strip().split('\\t', 1)\n",
    "        doc_id = int(data[0])\n",
    "        if len(data) == 1:\n",
    "            title = ''\n",
    "        else:\n",
    "            title = data[1]\n",
    "        doc_to_title[doc_id] = title\n",
    "print(len(doc_to_title))"
   ]
  },
  {
   "cell_type": "code",
   "execution_count": 9,
   "metadata": {
    "collapsed": true
   },
   "outputs": [],
   "source": [
    "train_data = pd.read_csv('train_groups.csv')\n",
    "traingroups_titledata = {}\n",
    "for i in range(len(train_data)):\n",
    "    new_doc = train_data.iloc[i]\n",
    "    doc_group = new_doc['group_id']\n",
    "    doc_id = new_doc['doc_id']\n",
    "    target = new_doc['target']\n",
    "    title = doc_to_title[doc_id]\n",
    "    if doc_group not in traingroups_titledata:\n",
    "        traingroups_titledata[doc_group] = []\n",
    "    traingroups_titledata[doc_group].append((doc_id, title, target))"
   ]
  },
  {
   "cell_type": "markdown",
   "metadata": {},
   "source": [
    "Кластеризацию проводите в каждой группе отдельно, то есть изучайте, можно ли в группе  найти подкластер выбросов\n",
    "\n",
    "Документы можно представлять, например, словами из тайтла.\n",
    "\n",
    "Главное подобрать хорошую функцию расстояния между документами\n"
   ]
  },
  {
   "cell_type": "markdown",
   "metadata": {},
   "source": [
    "Замечание: в кластеризации можно использовать все данные, то есть трейн + тест, чтобы находить больше закономерностей "
   ]
  },
  {
   "cell_type": "code",
   "execution_count": 11,
   "metadata": {
    "collapsed": true
   },
   "outputs": [],
   "source": [
    "# Место для Вашего кластерного анализа\n"
   ]
  },
  {
   "cell_type": "code",
   "execution_count": null,
   "metadata": {
    "collapsed": true
   },
   "outputs": [],
   "source": []
  },
  {
   "cell_type": "code",
   "execution_count": null,
   "metadata": {
    "collapsed": true
   },
   "outputs": [],
   "source": []
  },
  {
   "cell_type": "markdown",
   "metadata": {
    "collapsed": true
   },
   "source": [
    "Если получилось найти выбросы с помощью кластеризации, то не забывайте использовать его в финальном решении. Помните - использование различных подходов к решению задачи всегда улучшает финального качество."
   ]
  },
  {
   "cell_type": "code",
   "execution_count": null,
   "metadata": {
    "collapsed": true
   },
   "outputs": [],
   "source": []
  },
  {
   "cell_type": "markdown",
   "metadata": {},
   "source": [
    "Здесь Вы можете оставить отзыв о этой домашней работе или о всем курсе.   "
   ]
  },
  {
   "cell_type": "markdown",
   "metadata": {},
   "source": [
    "*** ВАШ ОТЗЫВ ЗДЕСЬ***"
   ]
  },
  {
   "cell_type": "markdown",
   "metadata": {
    "collapsed": true
   },
   "source": []
  },
  {
   "cell_type": "markdown",
   "metadata": {
    "collapsed": true
   },
   "source": []
  }
 ],
 "metadata": {
  "anaconda-cloud": {},
  "kernelspec": {
   "display_name": "Python 3",
   "language": "python",
   "name": "python3"
  },
  "language_info": {
   "codemirror_mode": {
    "name": "ipython",
    "version": 3
   },
   "file_extension": ".py",
   "mimetype": "text/x-python",
   "name": "python",
   "nbconvert_exporter": "python",
   "pygments_lexer": "ipython3",
   "version": "3.7.5"
  }
 },
 "nbformat": 4,
 "nbformat_minor": 1
}
