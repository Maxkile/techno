{
 "cells": [
  {
   "cell_type": "code",
   "execution_count": 55,
   "metadata": {},
   "outputs": [
    {
     "name": "stdout",
     "output_type": "stream",
     "text": [
      "5\n",
      "5 5 5 4 4\n",
      "5 4 \n",
      "3\n"
     ]
    }
   ],
   "source": [
    "n = int(input())\n",
    "deleted = 0\n",
    "\n",
    "remained = list()\n",
    "raw_inp = input().split(' ')\n",
    "raw_inp.reverse()\n",
    "for i in range(len(raw_inp)):\n",
    "    num = int(raw_inp.pop())\n",
    "    if (remained.count(num) == 0):\n",
    "        remained.append(num)\n",
    "    else:\n",
    "        deleted+=1\n",
    "for i in range(len(remained)):\n",
    "    print(remained[i],end=' ')\n",
    "print()\n",
    "print(deleted)\n"
   ]
  },
  {
   "cell_type": "code",
   "execution_count": 60,
   "metadata": {},
   "outputs": [
    {
     "name": "stdout",
     "output_type": "stream",
     "text": [
      "3 \n",
      "1 2 3\n",
      "1 2 3 "
     ]
    }
   ],
   "source": [
    "def getDigitSum(x):\n",
    "    digs = list(str(x))\n",
    "    sum = 0\n",
    "    for i in range(len(digs)):\n",
    "        sum += int(digs.pop())\n",
    "    return sum\n",
    "\n",
    "n = int(input())\n",
    "\n",
    "nums = input().split(' ')\n",
    "num_tuples = list()\n",
    "for i in range(n):\n",
    "    num = int(nums.pop())\n",
    "    num_tuple = (getDigitSum(num),num)\n",
    "    num_tuples.append(num_tuple)\n",
    "num_tuples.sort(key = lambda tupl: (tupl[0], tupl[1]))\n",
    "for i in range(n):\n",
    "    print(num_tuples[i][1],end=' ')"
   ]
  },
  {
   "cell_type": "code",
   "execution_count": 59,
   "metadata": {},
   "outputs": [
    {
     "name": "stdout",
     "output_type": "stream",
     "text": [
      "19 9\n",
      "1 2 1 2 1 2 1 2 1 2 1 2 3 4 5 6 7 8 9 "
     ]
    }
   ],
   "source": [
    "inp = input().split(' ')\n",
    "k = int(inp.pop())\n",
    "n = int(inp.pop())\n",
    "res = list()\n",
    "for i in range(0,n-k+2,1):\n",
    "    if i%2 == 0:\n",
    "        res.append(1)\n",
    "    else:\n",
    "        res.append(2)\n",
    "next = 3\n",
    "for j in range(n-k+2,n,1):\n",
    "    res.append(next)\n",
    "    next+=1\n",
    "for j in range(0,len(res)):\n",
    "    print(res[j],end=' ')"
   ]
  },
  {
   "cell_type": "code",
   "execution_count": 32,
   "metadata": {},
   "outputs": [
    {
     "data": {
      "text/plain": [
       "dict_items([('name', 2)])"
      ]
     },
     "execution_count": 32,
     "metadata": {},
     "output_type": "execute_result"
    }
   ],
   "source": [
    "M = list([[i**2,i**3] for i in range(4)])\n",
    "G = (sum(row) for row  in M)\n",
    "next(G)\n",
    "next(G)\n",
    "D = {'a':2,'b':3}\n",
    "D = dict(name = 2)\n",
    "D.items()"
   ]
  },
  {
   "cell_type": "code",
   "execution_count": 65,
   "metadata": {},
   "outputs": [
    {
     "name": "stdout",
     "output_type": "stream",
     "text": [
      "0\t2\t3\t4\n",
      "5\t6\t7\t8\n",
      "9\n",
      "\n",
      "0\t4\t6\t8\n",
      "2\t5\t7\t9\n",
      "3\n"
     ]
    }
   ],
   "source": [
    "def getColLen(v,cols):\n",
    "    col_len_lst = list()\n",
    "    col_len = 0\n",
    "    for i in range(0,cols):\n",
    "        for j in range(i,len(v),cols):\n",
    "            col_len += 1\n",
    "        col_len_lst.append(col_len)\n",
    "        col_len = 0\n",
    "    return tuple(col_len_lst)\n",
    "        \n",
    "def getLineLen(v,cols):\n",
    "    line_len_lst = list()\n",
    "    line_len = 0\n",
    "    for i in range(0,len(v)):\n",
    "        line_len += 1\n",
    "        if ((line_len == cols) or (i == len(v)-1)):\n",
    "            line_len_lst.append(line_len)\n",
    "            line_len = 0\n",
    "    return tuple(line_len_lst)\n",
    "    \n",
    "def reorder_list(v,cols):\n",
    "    new_lst = list()\n",
    "    line_len = getLineLen(v,cols)\n",
    "    col_len = getColLen(v,cols)\n",
    "    for i in range(0,col_len[0]):\n",
    "        j = i\n",
    "        overall_steps_num = line_len[i]\n",
    "        prev_step_num = 0\n",
    "        skip = False\n",
    "        for step_size in range(col_len[0],0,-1):\n",
    "                for step_num in range(0,line_len[step_size - 1] - prev_step_num):\n",
    "                    if (overall_steps_num == 0):\n",
    "                        skip = True\n",
    "                        break\n",
    "                    else:\n",
    "                        overall_steps_num -=1\n",
    "                        new_lst.append(v[j])\n",
    "                        j += step_size\n",
    "                if skip:\n",
    "                    break\n",
    "                else:\n",
    "                    prev_step_num = line_len[step_size  - 1]\n",
    "    return new_lst\n",
    "                    \n",
    "        \n",
    "\n",
    "def print_by_cols(v, cols):\n",
    "    for i in range(0, len(v), cols):\n",
    "        \n",
    "        print(*v[i:i+cols], sep='\\t')#list unpacking\n",
    "        \n",
    "\n",
    "lst = [0,2,3,4,5,6,7,8,9]\n",
    "cols = 4\n",
    "print_by_cols(lst,cols)\n",
    "print()\n",
    "print_by_cols(reorder_list(lst,cols),cols)\n",
    "# print()\n",
    "# print(reorder_list(lst,cols))"
   ]
  },
  {
   "cell_type": "code",
   "execution_count": null,
   "metadata": {},
   "outputs": [],
   "source": [
    "import sys\n",
    "from math import ceil\n",
    "\n",
    "def safe_input():\n",
    "    try:\n",
    "        return input()\n",
    "    except EOFError:\n",
    "        sys.exit(0)\n",
    "        \n",
    "def getAnswers(q_num,money):\n",
    "    answers = list()\n",
    "    for i in range(0,q_num):\n",
    "        answers.append(int(safe_input()))\n",
    "    return answers\n",
    "    \n",
    "def guessNumber():\n",
    "    seg = [1,50000,100000] #low,mid,high\n",
    "    divide_into = 10\n",
    "    # questions_num_per_turn = {1:10,2:10,3:10,4:10,5:10}\n",
    "    money = 100\n",
    "    cur_turn = 1\n",
    "    divide_coff = 4#divide each segment into divide_into subsegments divide_coff times\n",
    "    questions = list()#list of numbers(a). It means that the question looks like \"is a < x\"\n",
    "    answers = list()#list of answers\n",
    "    while(True):\n",
    "        if (seg[2] - seg[0] < 1):\n",
    "            print('!',seg[1],sep=' ')\n",
    "            return \n",
    "        elif seg[1] == seg[0]:\n",
    "            questions.append(seg[2]) \n",
    "            print('?',questions[0],sep=' ')\n",
    "            money -= 1\n",
    "        else:\n",
    "            delta = ceil((seg[2] - seg[0]) / divide_into)\n",
    "            # print(\"From:\",seg[0],\"To\",seg[2],sep=' ')\n",
    "            # print(\"Num:\",questions_num_per_turn[cur_turn],sep=' ')\n",
    "            # print(\"Delta:\",delta,sep=' ')\n",
    "            for i in range(1,divide_into):\n",
    "                questions.append(seg[0] + delta*i)\n",
    "                print('?',questions[i-1],sep=' ')\n",
    "                money -= 1           \n",
    "        # print(seg)  \n",
    "        print('+',flush=True)#end of question phase\n",
    "        \n",
    "        answers = getAnswers(len(questions),money)\n",
    "        if (seg[0] == seg[1]) or (seg[2] == seg[1]):#we compared with seg[2]: x < seg[2]\n",
    "            for j in range(0,len(answers)):       \n",
    "                if answers[j] == 1:\n",
    "                    print('!',seg[0],sep=' ')\n",
    "                    return\n",
    "                else:\n",
    "                    print('!',seg[2],sep=' ')\n",
    "                    return\n",
    "        else:\n",
    "            for j in range(0,len(answers)):       \n",
    "                if answers[j] == 1:\n",
    "                        seg[2] = questions[j] - 1\n",
    "                        seg[1] = ceil(seg[0] + (seg[2] - seg[0]) / 2)\n",
    "                        break #found necessary segment\n",
    "                else:\n",
    "                    seg[0] = questions[j]\n",
    "                    seg[1] = ceil(seg[0] + (seg[2] - seg[0]) / 2)\n",
    "        cur_turn += 1\n",
    "        money -= 10\n",
    "        # print(\"Money left\",money)\n",
    "        questions.clear()\n",
    "    \n",
    "if __name__ == \"__main__\":\n",
    "    guessNumber()"
   ]
  },
  {
   "cell_type": "code",
   "execution_count": null,
   "metadata": {},
   "outputs": [],
   "source": []
  }
 ],
 "metadata": {
  "kernelspec": {
   "display_name": "Python 3",
   "language": "python",
   "name": "python3"
  },
  "language_info": {
   "codemirror_mode": {
    "name": "ipython",
    "version": 3
   },
   "file_extension": ".py",
   "mimetype": "text/x-python",
   "name": "python",
   "nbconvert_exporter": "python",
   "pygments_lexer": "ipython3",
   "version": "3.7.4"
  }
 },
 "nbformat": 4,
 "nbformat_minor": 2
}
